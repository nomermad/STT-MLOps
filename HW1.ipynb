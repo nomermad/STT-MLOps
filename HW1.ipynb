{
 "cells": [
  {
   "cell_type": "markdown",
   "id": "c430d275-0e91-42cb-a370-ba5f0daa5988",
   "metadata": {},
   "source": [
    "# HW1"
   ]
  },
  {
   "cell_type": "markdown",
   "id": "449f3f41-f818-4ff5-ad1a-dad7b455b821",
   "metadata": {},
   "source": [
    "## Question 1"
   ]
  },
  {
   "cell_type": "markdown",
   "id": "b1c1eced-a1f7-4362-8997-c2dd37a1f712",
   "metadata": {},
   "source": [
    "### a. Create a git repository. If you have one already, create a new repository for mlops. Include a link to the repository.\n",
    "\n",
    "* https://github.com/nomermad/STT-MLOps"
   ]
  },
  {
   "cell_type": "markdown",
   "id": "6a19cdc3-7e29-4b8f-957c-ad0bd65b305a",
   "metadata": {},
   "source": [
    "### b. Take the sampregdata and build a linear regression model with scikit-learn, using the 1 X that fits the best. Put the model and the data in a proper organization."
   ]
  },
  {
   "cell_type": "code",
   "execution_count": 1,
   "id": "4dec2c84-46f6-4b99-9296-891b204a8f5b",
   "metadata": {},
   "outputs": [],
   "source": [
    "import pandas as pd\n",
    "from sklearn.linear_model import LinearRegression\n",
    "import random\n",
    "from sklearn.model_selection import train_test_split\n",
    "from sklearn.metrics import r2_score, mean_squared_error, mean_absolute_error\n",
    "sampregdata = pd.read_csv(\"sampregdata.csv\")"
   ]
  },
  {
   "cell_type": "code",
   "execution_count": 3,
   "id": "d429d1e0-6786-42f8-bc1e-3384a1753a58",
   "metadata": {},
   "outputs": [
    {
     "data": {
      "text/html": [
       "<div>\n",
       "<style scoped>\n",
       "    .dataframe tbody tr th:only-of-type {\n",
       "        vertical-align: middle;\n",
       "    }\n",
       "\n",
       "    .dataframe tbody tr th {\n",
       "        vertical-align: top;\n",
       "    }\n",
       "\n",
       "    .dataframe thead th {\n",
       "        text-align: right;\n",
       "    }\n",
       "</style>\n",
       "<table border=\"1\" class=\"dataframe\">\n",
       "  <thead>\n",
       "    <tr style=\"text-align: right;\">\n",
       "      <th></th>\n",
       "      <th>Unnamed: 0</th>\n",
       "      <th>x1</th>\n",
       "      <th>x2</th>\n",
       "      <th>x3</th>\n",
       "      <th>x4</th>\n",
       "      <th>y</th>\n",
       "    </tr>\n",
       "  </thead>\n",
       "  <tbody>\n",
       "    <tr>\n",
       "      <th>0</th>\n",
       "      <td>1</td>\n",
       "      <td>7.331693</td>\n",
       "      <td>9.660958</td>\n",
       "      <td>-2.981869</td>\n",
       "      <td>5.214284</td>\n",
       "      <td>-2.311878</td>\n",
       "    </tr>\n",
       "    <tr>\n",
       "      <th>1</th>\n",
       "      <td>2</td>\n",
       "      <td>16.888609</td>\n",
       "      <td>9.546231</td>\n",
       "      <td>18.440459</td>\n",
       "      <td>11.804018</td>\n",
       "      <td>0.994307</td>\n",
       "    </tr>\n",
       "    <tr>\n",
       "      <th>2</th>\n",
       "      <td>3</td>\n",
       "      <td>8.280643</td>\n",
       "      <td>6.442062</td>\n",
       "      <td>-0.225791</td>\n",
       "      <td>6.493211</td>\n",
       "      <td>-5.253876</td>\n",
       "    </tr>\n",
       "    <tr>\n",
       "      <th>3</th>\n",
       "      <td>4</td>\n",
       "      <td>3.827778</td>\n",
       "      <td>3.741506</td>\n",
       "      <td>-2.850664</td>\n",
       "      <td>-0.226420</td>\n",
       "      <td>20.056798</td>\n",
       "    </tr>\n",
       "    <tr>\n",
       "      <th>4</th>\n",
       "      <td>5</td>\n",
       "      <td>9.675971</td>\n",
       "      <td>4.385008</td>\n",
       "      <td>8.344576</td>\n",
       "      <td>5.979043</td>\n",
       "      <td>9.577914</td>\n",
       "    </tr>\n",
       "  </tbody>\n",
       "</table>\n",
       "</div>"
      ],
      "text/plain": [
       "   Unnamed: 0         x1        x2         x3         x4          y\n",
       "0           1   7.331693  9.660958  -2.981869   5.214284  -2.311878\n",
       "1           2  16.888609  9.546231  18.440459  11.804018   0.994307\n",
       "2           3   8.280643  6.442062  -0.225791   6.493211  -5.253876\n",
       "3           4   3.827778  3.741506  -2.850664  -0.226420  20.056798\n",
       "4           5   9.675971  4.385008   8.344576   5.979043   9.577914"
      ]
     },
     "execution_count": 3,
     "metadata": {},
     "output_type": "execute_result"
    }
   ],
   "source": [
    "sampregdata.head()"
   ]
  },
  {
   "cell_type": "code",
   "execution_count": 5,
   "id": "e78dd79c-1c8e-4126-aebe-e69129a2536f",
   "metadata": {},
   "outputs": [],
   "source": [
    "X = sampregdata[['x1','x2','x3','x4']] #creating a datset with x variables\n",
    "y = sampregdata[['y']] #creating target data"
   ]
  },
  {
   "cell_type": "code",
   "execution_count": 7,
   "id": "ba29a283-2e91-485c-928e-50158aa864d4",
   "metadata": {},
   "outputs": [
    {
     "name": "stdout",
     "output_type": "stream",
     "text": [
      "X: x1, R²: -0.0029\n",
      "X: x2, R²: 0.2464\n",
      "X: x3, R²: 0.1561\n",
      "X: x4, R²: 0.2646\n"
     ]
    }
   ],
   "source": [
    "#finding best x\n",
    "X_train, X_test, y_train, y_test = train_test_split(X, y, test_size = 0.2) \n",
    "for i in X.columns:\n",
    "    model = LinearRegression()\n",
    "    model.fit(X_train[[i]], y_train)\n",
    "    y_pred = model.predict(X_test[[i]])\n",
    "    mse = mean_squared_error(y_test, y_pred)\n",
    "    r2 = r2_score(y_test, y_pred)\n",
    "    print(f\"X: {i}, R²: {r2:.4f}\")"
   ]
  },
  {
   "cell_type": "code",
   "execution_count": 9,
   "id": "2751defb-5e38-4191-b6bd-13aa6900efb0",
   "metadata": {},
   "outputs": [
    {
     "name": "stdout",
     "output_type": "stream",
     "text": [
      "The MSE for the best model is: 81.0906912022354, The R² is: 0.2506\n"
     ]
    }
   ],
   "source": [
    "#best X\n",
    "best_X = sampregdata[['x4']]\n",
    "X_train_best, X_test_best, y_train_best, y_test_best = train_test_split(best_X, y, test_size = 0.2) \n",
    "model_best = LinearRegression()\n",
    "model_best.fit(X_train_best, y_train_best)\n",
    "y_pred_best = model_best.predict(X_test_best)\n",
    "mse_best = mean_squared_error(y_test_best, y_pred_best)\n",
    "r2_best = r2_score(y_test_best, y_pred_best)\n",
    "print(f\"The MSE for the best model is: {mse_best}, The R² is: {r2_best:.4f}\")"
   ]
  },
  {
   "cell_type": "markdown",
   "id": "ab18e584-e813-4dd3-a25b-3207b8b664b0",
   "metadata": {},
   "source": [
    "### c. Create a new model with 2 X’s. Use proper version control to designate this model as the current model while still have the previous model as accessible."
   ]
  },
  {
   "cell_type": "code",
   "execution_count": 11,
   "id": "53347b8a-c96a-4de9-801f-2e63c68bee71",
   "metadata": {},
   "outputs": [],
   "source": [
    "X2 = sampregdata[['x2','x4']]"
   ]
  },
  {
   "cell_type": "code",
   "execution_count": 13,
   "id": "4e8d58ae-cef2-4b76-bd73-b5e960e5c93a",
   "metadata": {},
   "outputs": [],
   "source": [
    "#model with 2 X's\n",
    "X_train2, X_test2, y_train2, y_test2 = train_test_split(X2, y, test_size = 0.2) \n",
    "model2 = LinearRegression()\n",
    "model2.fit(X_train2, y_train2)\n",
    "y_pred2 = model2.predict(X_test2)"
   ]
  },
  {
   "cell_type": "code",
   "execution_count": 15,
   "id": "b16a28b6-a475-4678-99c1-12e517bca009",
   "metadata": {},
   "outputs": [
    {
     "name": "stdout",
     "output_type": "stream",
     "text": [
      "0.5119739893538887\n"
     ]
    }
   ],
   "source": [
    "mse2 = mean_squared_error(y_test2, y_pred2)\n",
    "r2_2 = r2_score(y_test2, y_pred2)\n",
    "print(r2_2)"
   ]
  },
  {
   "cell_type": "markdown",
   "id": "559924ef-7633-4fee-ad48-0290961fe3b4",
   "metadata": {},
   "source": [
    "### d. Grant access to one person in the class. That person should be able to access the data and run the models."
   ]
  },
  {
   "cell_type": "markdown",
   "id": "79241cc6-2d3a-4834-a41f-9a6a15028320",
   "metadata": {},
   "source": [
    "### e. Create a readme file which documents the most recent model and compares it to the previous one. 1 paragraph is sufficient for this."
   ]
  },
  {
   "cell_type": "markdown",
   "id": "fe9cacb8-4218-47c0-9d77-b80d96612597",
   "metadata": {},
   "source": [
    "## Question 2 :The first set of slides mention demand forecasting. For this, suppose you are working with “demand planners” to create demand forecasts for a set of 100 products. They products are small, tangible goods\n",
    "\n",
    "### a. What is a demand planner?\n",
    "\n",
    "* A demand planner is a professional who forecasts future product or service demand by analyzing historical sales data, market trends, and other business inputs to optimize inventory and align supply with customer needs. Demand planners are critical to a company's success by ensuring that the supply chain can efficiently meet customer demand.\n",
    "\n",
    "### b. Why would a demand planner need product forecasts?\n",
    "\n",
    "* A demand planner would need product forecasts to predict future sales, enabling them to optimize inventory, align supply with demand, streamline production and logistics, and avoid stockouts and overstocking. Product forecasts are important to ensure products are available when needed and avoids excess product.\n",
    "\n",
    "### c. Based on searching, what is the time frequency most likely needed for these forecasts?\n",
    "\n",
    "* Demand planners typically work with multiple forecast frequencies at once. These forecats include the following.\n",
    "* **Short-term Forecasts:** Focuses on predicting demand for a short period, typically a few weeks or months for immediate operational decisions.\n",
    "* **Medium-Term Forecasts:** Covers periods of several months to a year, often used for more strategic planning like sales and operations.\n",
    "* **Long-Term Forecasts:** Predicts demand over an extended timeframe, usually one to five years or more.\n",
    "* For 100 small, tangible goods, short-term forecasts would be the time frequency most likely needed. Short-term forecasts would allow for sufficient data aggregation to reduce noise, responsiveness to market/stock changes, alignment with business cycles, and balance between accuracy and operational needs. Weekly forecasting would be the primary frequency, with monthly reviews for longer-term planning.\n",
    "\n",
    "### d. What data do you need to get started?\n",
    "\n",
    "* **Historical sales data:** Sales history(last few years), sales by region/channel/customer, orders by timestamp, orders by SKU, pricing/selling information\n",
    "* **Product information:** Attributes(size, category), product launch and discontinuation dates, promos/markdowns(include type, amount off, temporary/perminant\n",
    "* **Promotional Data:** Marketing events, campaign performance, price change effects\n",
    "* **Inventory Data:** Units sold, item counts, shipments, refunds, supplier information \n",
    "* **External Factors:** Holidays, school breaks, weather data, competitor data, market trends\n",
    "\n",
    "### e. You are to meet with a couple of the demand planners. What are some questions you would like to ask them?\n",
    "\n",
    "* What do we want the model to do?\n",
    "* How frequently do you need updated forecasts?\n",
    "* What external factors impact demand for these products?\n",
    "* Questions about how changes in inventory are handled, such as returns.\n",
    "* Questions on what success may look like.\n",
    "* Questions about seasonal factors and holidays.\n",
    "\n",
    "\n",
    "### f. After building the models, how would you show to the demand planners that the results should be trusted?\n",
    "\n",
    "* **Metrics:** Using metrics on historical performance such as forecast accuracy, bias\n",
    "* **Visuals:** Using visuals such as charts and graphs to communicate the results visually.\n",
    "* **Ongoing Monitoring:** Monitoring model performance with ongoing accuracy tracking and reporting\n",
    "* **Confidence Intervals:** Providing uncertainty with predictions\n",
    "\n",
    "### g. Describe some characterisitcs of the data that would be needed to produductionize the models.\n",
    "\n",
    "* **Timeliness:** Recent data for forecasting updates, the data should be updated frequently and consistently.\n",
    "* **Consistency:** Data is automated with quality checks, the data is standardized across sources\n",
    "* **Accuracy:** Data is correct, with minimal missing values\n",
    "\n",
    "### h. What is your best guess as to how they would want to receive the model results?\n",
    "\n",
    "* **Scheduled report:** Regular email with forecasting updates\n",
    "* **Dashboard:** Visual display with key metrics\n",
    "* **Excel sheet:** Easy to view anaysis and manipulate variables\n",
    "\n",
    "### i. What sources did you use to find these answers?\n",
    "\n",
    "* https://www.thefulfillmentlab.com/blog/demand-forecasting\n",
    "* https://www.netsuite.com/portal/resource/articles/erp/demand-planning.shtml\n",
    "* https://surgere.com/blog/demand-planning-vs-forecasting-key-differences/\n",
    "* https://demand-planning.com/2025/05/05/demand-planning-101-the-basics/\n",
    "* https://www.flieber.com/blog/demand-planning-and-forecasting\n",
    "* https://www.forgestik.com/en/blog/production-forecasting#:~:text=1.,or%20overproduction%20(excess%20inventory)."
   ]
  },
  {
   "cell_type": "markdown",
   "id": "86401947-db77-41ee-a756-10c17e82b3b5",
   "metadata": {},
   "source": [
    "## Question 3: Give as complete as possible a process diagram for the project in #2, from beginning to end. Be careful with the dependencies between steps. Include your best guesses as to time for each major step."
   ]
  },
  {
   "cell_type": "markdown",
   "id": "6590c5be-feea-4cf1-b8ce-0fb175609413",
   "metadata": {},
   "source": [
    "## Outline\n",
    "\n",
    "### 1. Stakeholder Analysis & Problem Definition \n",
    "\n",
    "* **1.Project Creation and Requirements(5-6 weeks)**\n",
    "\n",
    "* Assemble team\n",
    "* Define project scope and objectives\n",
    "* Identify key stakeholders and project roles\n",
    "* Define project scope(**Why**)\n",
    "\n",
    "* **2.Stakeholder Engagement**\n",
    "\n",
    "* Structure business expectations and constraints\n",
    "* Identify decision makers\n",
    "* Meet with demand planners (**Who**)\n",
    "* Define where the results are needed (**Where**)\n",
    "* Define predictions (**What**)\n",
    "* Define timeline (**When**)\n",
    "\n",
    "* **3. Analyzing business requirements(2-3 weeks)**\n",
    "\n",
    "* Workflow analysis\n",
    "* Integration requirements\n",
    "* User interface requirements\n",
    "* Define performance requirements\n",
    "\n",
    "### 2. Data Acquisition & Pipeline \n",
    "\n",
    "* **HOW** to get the data\n",
    "* **1. Data infrastructure(4-8 weeks)**\n",
    "* Getting permission to the data\n",
    "* Pipeline and architecture design\n",
    "* Security controls design and implementation\n",
    "* Create production / developing enviornments\n",
    "\n",
    "* **2.Data collection pipeline**\n",
    "* Automate data collection\n",
    "* Implement data validation rules\n",
    "* Implement process for error handling\n",
    "* Process for modeling\n",
    "\n",
    "* **3. Analyze Data Quality**\n",
    "\n",
    "* Find missing values\n",
    "* Detect outliers\n",
    "* Basic statistics\n",
    "* Balancing data\n",
    "* Data profiling\n",
    "* **4. Data Cleaning**\n",
    "\n",
    "* Missing values imputation/deletion\n",
    "* Outlier handling\n",
    "* Data standardication\n",
    "* Feature creation\n",
    "* **5.Inital Data Exploration** \n",
    "\n",
    "* EDA: basic descriptive statistics(Trends/seasonality gaps, means)\n",
    "\n",
    "### 3. Modeling\n",
    "\n",
    "* **HOW** to build the model\n",
    "* **1. Model Development**\n",
    "\n",
    "* Creating ways to determine which algorithm to use\n",
    "* Cross-validation approaches\n",
    "* Hyper-parameter tuning\n",
    "* Decide on baseline statistical methods\n",
    "\n",
    "* **2. Feature Engineering**\n",
    "\n",
    "* Time series\n",
    "* Seasonal features\n",
    "* promitional impact features\n",
    "* product features\n",
    "\n",
    "* **3.Model Training**\n",
    "\n",
    "* Testing multiple algorithms \n",
    "* Hyperparamter optimization\n",
    "* Implementation of cross validation\n",
    "* Model comparison (r2, mean square error)\n",
    "\n",
    "* **4.Model Testing**\n",
    "\n",
    "* Statistical significance testing\n",
    "* Residual analysis\n",
    "* **5.Stakeholder validation**\n",
    "* Baseline comparisons\n",
    "* Communicate results\n",
    "* Scenario testing\n",
    "* Usability checks\n",
    "\n",
    "### 4. Productionization and Monitoring \n",
    "\n",
    "* **1. Production Environment Creation**\n",
    "\n",
    "* Production infrastructure creation\n",
    "* Scalability testing\n",
    "* Creating DR/BCM\n",
    "\n",
    "* **2. Design & Implement Pilot**\n",
    "\n",
    "* Select products for piloting\n",
    "* Define success criteria\n",
    "* Design a way to collect feedback\n",
    "* Production deployment of pilot\n",
    "* User training\n",
    "* Daily monitoring\n",
    "\n",
    "* **3. Production implementation**\n",
    "\n",
    "* Select all 100 products\n",
    "* Monitoring \n",
    "* Performance validation\n",
    "\n",
    "\n",
    "**4. Stakeholder reporting**\n",
    "\n",
    "* Dashboard / report creation\n",
    "* Setting alert systems\n",
    "* Creating automated reporting\n",
    "\n",
    "* **5. Monitoring**\n",
    "\n",
    "* Model performance alerts\n",
    "* KPI monitoring\n",
    "* Forecast accuracy\n",
    "* Ensure model is working as expected\n",
    "* Fix model when performance degrades\n",
    "* Contious retraining of models\n"
   ]
  },
  {
   "cell_type": "code",
   "execution_count": null,
   "id": "7385e1f9-6880-42e9-a312-4995fc327a6d",
   "metadata": {},
   "outputs": [],
   "source": []
  }
 ],
 "metadata": {
  "kernelspec": {
   "display_name": "Python 3 (ipykernel)",
   "language": "python",
   "name": "python3"
  },
  "language_info": {
   "codemirror_mode": {
    "name": "ipython",
    "version": 3
   },
   "file_extension": ".py",
   "mimetype": "text/x-python",
   "name": "python",
   "nbconvert_exporter": "python",
   "pygments_lexer": "ipython3",
   "version": "3.12.4"
  }
 },
 "nbformat": 4,
 "nbformat_minor": 5
}
