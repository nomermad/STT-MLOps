{
 "cells": [
  {
   "cell_type": "markdown",
   "id": "c430d275-0e91-42cb-a370-ba5f0daa5988",
   "metadata": {},
   "source": [
    "# HW1"
   ]
  },
  {
   "cell_type": "markdown",
   "id": "449f3f41-f818-4ff5-ad1a-dad7b455b821",
   "metadata": {},
   "source": [
    "## Question 1"
   ]
  },
  {
   "cell_type": "markdown",
   "id": "b1c1eced-a1f7-4362-8997-c2dd37a1f712",
   "metadata": {},
   "source": [
    "### a. Create a git repository. If you have one already, create a new repository for mlops. Include a link to the repository.\n",
    "\n",
    "* https://github.com/nomermad/STT-MLOps\n",
    "\n",
    "### b. Take the sampregdata and build a linear regression model with scikit-learn, using the 1 X that fits the best. Put the model and the data in a proper organizaCon.\n",
    "\n",
    "### c. Create a new model with 2 X’s. Use proper version control to designate this model as the current model while sCll have the previous model as accessible.\n",
    "\n",
    "### d. Grant access to one person in the class. That person should be able to access the data and run the models.\n",
    "\n",
    "### e. Create a readme file which documents the most recent model and compares it to the previous one. 1 paragraph is sufficient for this."
   ]
  },
  {
   "cell_type": "markdown",
   "id": "fe9cacb8-4218-47c0-9d77-b80d96612597",
   "metadata": {},
   "source": [
    "## Question 2 :The first set of slides mention demand forecasCng. For this, suppose you are working with “demand planners” to create demand forecasts for a set of 100 products. They products are small, tangible goods\n",
    "\n",
    "### a. What is a demand planner?\n",
    "\n",
    "* A demand planner \n",
    "b. Why would a demand planner need product forecasts?\n",
    "c. Based on searching, what is the Cme frequency most likely needed for these forecasts?\n",
    "d. What data do you need to get started?\n",
    "e. You are to meet with a couple of the demand planners. What are some quesCons you\n",
    "would like to ask them?\n",
    "f. ASer building the models, how would you show to the demand planners that the\n",
    "results should be trusted?\n",
    "g. Describe some characterisCcs of the data that would be needed to producConize the\n",
    "models.\n",
    "h. What is your best guess as to how they would want to receive the model results?\n",
    "i. What sources did you use to find these answers?"
   ]
  },
  {
   "cell_type": "code",
   "execution_count": null,
   "id": "a0a3c55b-3bbb-463b-acee-4fca15426e1f",
   "metadata": {},
   "outputs": [],
   "source": []
  }
 ],
 "metadata": {
  "kernelspec": {
   "display_name": "Python 3 (ipykernel)",
   "language": "python",
   "name": "python3"
  },
  "language_info": {
   "codemirror_mode": {
    "name": "ipython",
    "version": 3
   },
   "file_extension": ".py",
   "mimetype": "text/x-python",
   "name": "python",
   "nbconvert_exporter": "python",
   "pygments_lexer": "ipython3",
   "version": "3.12.4"
  }
 },
 "nbformat": 4,
 "nbformat_minor": 5
}
