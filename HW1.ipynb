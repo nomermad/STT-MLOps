{
 "cells": [
  {
   "cell_type": "markdown",
   "id": "c430d275-0e91-42cb-a370-ba5f0daa5988",
   "metadata": {},
   "source": [
    "# HW1"
   ]
  },
  {
   "cell_type": "markdown",
   "id": "449f3f41-f818-4ff5-ad1a-dad7b455b821",
   "metadata": {},
   "source": [
    "## Question 1"
   ]
  },
  {
   "cell_type": "markdown",
   "id": "b1c1eced-a1f7-4362-8997-c2dd37a1f712",
   "metadata": {},
   "source": [
    "### a. Create a git repository. If you have one already, create a new repository for mlops. Include a link to the repository.\n",
    "\n",
    "* https://github.com/nomermad/STT-MLOps\n",
    "\n",
    "### b. Take the sampregdata and build a linear regression model with scikit-learn, using the 1 X that fits the best. Put the model and the data in a proper organizaCon.\n",
    "\n",
    "### c. Create a new model with 2 X’s. Use proper version control to designate this model as the current model while sCll have the previous model as accessible.\n",
    "\n",
    "### d. Grant access to one person in the class. That person should be able to access the data and run the models.\n",
    "\n",
    "### e. Create a readme file which documents the most recent model and compares it to the previous one. 1 paragraph is sufficient for this."
   ]
  },
  {
   "cell_type": "code",
   "execution_count": 4,
   "id": "4dec2c84-46f6-4b99-9296-891b204a8f5b",
   "metadata": {},
   "outputs": [
    {
     "ename": "NameError",
     "evalue": "name 'samp' is not defined",
     "output_type": "error",
     "traceback": [
      "\u001b[0;31m---------------------------------------------------------------------------\u001b[0m",
      "\u001b[0;31mNameError\u001b[0m                                 Traceback (most recent call last)",
      "Cell \u001b[0;32mIn[4], line 1\u001b[0m\n\u001b[0;32m----> 1\u001b[0m samp\n",
      "\u001b[0;31mNameError\u001b[0m: name 'samp' is not defined"
     ]
    }
   ],
   "source": [
    "import pandas as pd\n",
    "sampregdata = pd.read_csv("
   ]
  },
  {
   "cell_type": "code",
   "execution_count": null,
   "id": "d429d1e0-6786-42f8-bc1e-3384a1753a58",
   "metadata": {},
   "outputs": [],
   "source": []
  },
  {
   "cell_type": "markdown",
   "id": "fe9cacb8-4218-47c0-9d77-b80d96612597",
   "metadata": {},
   "source": [
    "## Question 2 :The first set of slides mention demand forecasting. For this, suppose you are working with “demand planners” to create demand forecasts for a set of 100 products. They products are small, tangible goods\n",
    "\n",
    "### a. What is a demand planner?\n",
    "\n",
    "* A demand planner forecasts future product or service demand by analyzing historical sales data, market trends, and other business inputs to optimize inventory and align supply with customer needs.\n",
    "\n",
    "### b. Why would a demand planner need product forecasts?\n",
    "\n",
    "* A demand planner would need product forecasts to predict future sales, enabling them to optimize inventory, align supply with demand, streamline production and logistics, and avoid stockouts and overstocking. \n",
    "\n",
    "### c. Based on searching, what is the time frequency most likely needed for these forecasts?\n",
    "\n",
    "* Demand planners typically work with multiple forecast frequencies at once. These forecats include the following.\n",
    "* **Short-term Forecasts:** Focuses on predicting demand for a short period, typically a few weeks or months for immediate operational decisions.\n",
    "* **Medium-Term Forecasts:** Covers periods of several months to a year, often used for more strategic planning like sales and operations.\n",
    "* **Long-Term Forecasts:** Predicts demand over an extended timeframe, usually one to five years or more.\n",
    "* For 100 small, tangible goods, short-term forecasts would be the time frequency most likely needed. Short-term forecasts would allow for sufficient data aggregation to reduce noise, responsiveness to market/stock changes, alignment with business cycles, and balance between accuracy and operational needs. \n",
    "\n",
    "### d. What data do you need to get started?\n",
    "\n",
    "* Historical sales data: Sales history(last few years), sales by region/channel/customer, orders by timestamp, orders by SKU, pricing/selling information\n",
    "* Product information: Attributes(size, category), product launch and discontinuation dates, promos/markdowns(include type, amount off, temporary/perminant\n",
    "* Promotional Data: Marketing events, campaign performance, price change effects\n",
    "* Inventory Data: Units sold, item counts, shipments, refunds\n",
    "* External Factors: Holidays, school breaks, weather data, competitor data, market trends\n",
    "\n",
    "### e. You are to meet with a couple of the demand planners. What are some questions you would like to ask them?\n",
    "\n",
    "* How frequently do you need updated forecasts?\n",
    "\n",
    "### f. After building the models, how would you show to the demand planners that the results should be trusted?\n",
    "\n",
    "* Historical performance\n",
    "* Ongoing Monitoring\n",
    "\n",
    "### g. Describe some characterisitcs of the data that would be needed to produductionize the models.\n",
    "\n",
    "* Accuracy\n",
    "* Timeliness\n",
    "* Consistency\n",
    "\n",
    "### h. What is your best guess as to how they would want to receive the model results?\n",
    "\n",
    "* Scheduled report\n",
    "* Dashboard\n",
    "* Excel sheet\n",
    "\n",
    "### i. What sources did you use to find these answers?\n",
    "\n",
    "* https://www.thefulfillmentlab.com/blog/demand-forecasting\n",
    "* https://www.netsuite.com/portal/resource/articles/erp/demand-planning.shtml\n",
    "* https://surgere.com/blog/demand-planning-vs-forecasting-key-differences/\n",
    "* https://demand-planning.com/2025/05/05/demand-planning-101-the-basics/\n",
    "* https://www.flieber.com/blog/demand-planning-and-forecasting\n",
    "* https://www.forgestik.com/en/blog/production-forecasting#:~:text=1.,or%20overproduction%20(excess%20inventory)."
   ]
  },
  {
   "cell_type": "markdown",
   "id": "86401947-db77-41ee-a756-10c17e82b3b5",
   "metadata": {},
   "source": [
    "## Question 3: Give as complete as possible a process diagram for the project in #2, from beginning to end. Be careful with the dependencies between steps. Include your best guesses as to time for each major step."
   ]
  }
 ],
 "metadata": {
  "kernelspec": {
   "display_name": "Python 3 (ipykernel)",
   "language": "python",
   "name": "python3"
  },
  "language_info": {
   "codemirror_mode": {
    "name": "ipython",
    "version": 3
   },
   "file_extension": ".py",
   "mimetype": "text/x-python",
   "name": "python",
   "nbconvert_exporter": "python",
   "pygments_lexer": "ipython3",
   "version": "3.12.4"
  }
 },
 "nbformat": 4,
 "nbformat_minor": 5
}
