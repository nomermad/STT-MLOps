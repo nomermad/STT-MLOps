{
 "cells": [
  {
   "cell_type": "markdown",
   "id": "c430d275-0e91-42cb-a370-ba5f0daa5988",
   "metadata": {},
   "source": [
    "# HW1"
   ]
  },
  {
   "cell_type": "markdown",
   "id": "449f3f41-f818-4ff5-ad1a-dad7b455b821",
   "metadata": {},
   "source": [
    "## Question 1"
   ]
  },
  {
   "cell_type": "markdown",
   "id": "b1c1eced-a1f7-4362-8997-c2dd37a1f712",
   "metadata": {},
   "source": [
    "### a. Create a git repository. If you have one already, create a new repository for mlops. Include a link to the repository.\n",
    "\n",
    "* https://github.com/nomermad/STT-MLOps"
   ]
  },
  {
   "cell_type": "markdown",
   "id": "6a19cdc3-7e29-4b8f-957c-ad0bd65b305a",
   "metadata": {},
   "source": [
    "### b. Take the sampregdata and build a linear regression model with scikit-learn, using the 1 X that fits the best. Put the model and the data in a proper organization."
   ]
  },
  {
   "cell_type": "code",
   "execution_count": 1,
   "id": "4dec2c84-46f6-4b99-9296-891b204a8f5b",
   "metadata": {},
   "outputs": [],
   "source": [
    "import pandas as pd\n",
    "from sklearn.linear_model import LinearRegression\n",
    "sampregdata = pd.read_csv(\"sampregdata.csv\")"
   ]
  },
  {
   "cell_type": "code",
   "execution_count": 3,
   "id": "d429d1e0-6786-42f8-bc1e-3384a1753a58",
   "metadata": {},
   "outputs": [
    {
     "data": {
      "text/html": [
       "<div>\n",
       "<style scoped>\n",
       "    .dataframe tbody tr th:only-of-type {\n",
       "        vertical-align: middle;\n",
       "    }\n",
       "\n",
       "    .dataframe tbody tr th {\n",
       "        vertical-align: top;\n",
       "    }\n",
       "\n",
       "    .dataframe thead th {\n",
       "        text-align: right;\n",
       "    }\n",
       "</style>\n",
       "<table border=\"1\" class=\"dataframe\">\n",
       "  <thead>\n",
       "    <tr style=\"text-align: right;\">\n",
       "      <th></th>\n",
       "      <th>Unnamed: 0</th>\n",
       "      <th>x1</th>\n",
       "      <th>x2</th>\n",
       "      <th>x3</th>\n",
       "      <th>x4</th>\n",
       "      <th>y</th>\n",
       "    </tr>\n",
       "  </thead>\n",
       "  <tbody>\n",
       "    <tr>\n",
       "      <th>0</th>\n",
       "      <td>1</td>\n",
       "      <td>7.331693</td>\n",
       "      <td>9.660958</td>\n",
       "      <td>-2.981869</td>\n",
       "      <td>5.214284</td>\n",
       "      <td>-2.311878</td>\n",
       "    </tr>\n",
       "    <tr>\n",
       "      <th>1</th>\n",
       "      <td>2</td>\n",
       "      <td>16.888609</td>\n",
       "      <td>9.546231</td>\n",
       "      <td>18.440459</td>\n",
       "      <td>11.804018</td>\n",
       "      <td>0.994307</td>\n",
       "    </tr>\n",
       "    <tr>\n",
       "      <th>2</th>\n",
       "      <td>3</td>\n",
       "      <td>8.280643</td>\n",
       "      <td>6.442062</td>\n",
       "      <td>-0.225791</td>\n",
       "      <td>6.493211</td>\n",
       "      <td>-5.253876</td>\n",
       "    </tr>\n",
       "    <tr>\n",
       "      <th>3</th>\n",
       "      <td>4</td>\n",
       "      <td>3.827778</td>\n",
       "      <td>3.741506</td>\n",
       "      <td>-2.850664</td>\n",
       "      <td>-0.226420</td>\n",
       "      <td>20.056798</td>\n",
       "    </tr>\n",
       "    <tr>\n",
       "      <th>4</th>\n",
       "      <td>5</td>\n",
       "      <td>9.675971</td>\n",
       "      <td>4.385008</td>\n",
       "      <td>8.344576</td>\n",
       "      <td>5.979043</td>\n",
       "      <td>9.577914</td>\n",
       "    </tr>\n",
       "  </tbody>\n",
       "</table>\n",
       "</div>"
      ],
      "text/plain": [
       "   Unnamed: 0         x1        x2         x3         x4          y\n",
       "0           1   7.331693  9.660958  -2.981869   5.214284  -2.311878\n",
       "1           2  16.888609  9.546231  18.440459  11.804018   0.994307\n",
       "2           3   8.280643  6.442062  -0.225791   6.493211  -5.253876\n",
       "3           4   3.827778  3.741506  -2.850664  -0.226420  20.056798\n",
       "4           5   9.675971  4.385008   8.344576   5.979043   9.577914"
      ]
     },
     "execution_count": 3,
     "metadata": {},
     "output_type": "execute_result"
    }
   ],
   "source": [
    "sampregdata.head()"
   ]
  },
  {
   "cell_type": "code",
   "execution_count": 5,
   "id": "e78dd79c-1c8e-4126-aebe-e69129a2536f",
   "metadata": {},
   "outputs": [],
   "source": [
    "X = sampregdata[['x1','x2','x3','x4']] #creating a datset with x variables\n",
    "y = sampregdata[['y']] #creating target data"
   ]
  },
  {
   "cell_type": "code",
   "execution_count": 33,
   "id": "ba29a283-2e91-485c-928e-50158aa864d4",
   "metadata": {},
   "outputs": [
    {
     "name": "stdout",
     "output_type": "stream",
     "text": [
      "X: x1, R²: -0.0006\n",
      "X: x2, R²: 0.2409\n",
      "X: x3, R²: 0.1865\n",
      "X: x4, R²: 0.3043\n"
     ]
    }
   ],
   "source": [
    "from sklearn.model_selection import train_test_split\n",
    "from sklearn.metrics import r2_score\n",
    "from sklearn.metrics import mean_squared_error, mean_absolute_error\n",
    "X_train, X_test, y_train, y_test = train_test_split(X, y, test_size = 0.2) \n",
    "for i in X.columns:\n",
    "    model = LinearRegression()\n",
    "    model.fit(X_train[[i]], y_train)\n",
    "    y_pred = model.predict(X_test[[i]])\n",
    "    mse = mean_squared_error(y_test, y_pred)\n",
    "    r2 = r2_score(y_test, y_pred)\n",
    "    print(f\"X: {i}, R²: {r2:.4f}\")"
   ]
  },
  {
   "cell_type": "markdown",
   "id": "ab18e584-e813-4dd3-a25b-3207b8b664b0",
   "metadata": {},
   "source": [
    "### c. Create a new model with 2 X’s. Use proper version control to designate this model as the current model while still have the previous model as accessible."
   ]
  },
  {
   "cell_type": "code",
   "execution_count": 36,
   "id": "fc31d793-03bd-4142-8fb5-f41ae7fc7fe0",
   "metadata": {},
   "outputs": [],
   "source": [
    "X2 = sampregdata[['x3','x4']]"
   ]
  },
  {
   "cell_type": "code",
   "execution_count": 38,
   "id": "5ca27821-1f87-4751-9b07-c08d2ce01be0",
   "metadata": {},
   "outputs": [],
   "source": [
    "X_train2, X_test2, y_train2, y_test2 = train_test_split(X2, y, test_size = 0.2) \n",
    "model2 = LinearRegression()\n",
    "model2.fit(X_train2, y_train2)\n",
    "y_pred2 = model2.predict(X_test2)"
   ]
  },
  {
   "cell_type": "code",
   "execution_count": 42,
   "id": "69e32d30-8f31-49ef-b889-f2646ce947e6",
   "metadata": {},
   "outputs": [
    {
     "name": "stdout",
     "output_type": "stream",
     "text": [
      "0.5508544859611124\n"
     ]
    }
   ],
   "source": [
    "mse2 = mean_squared_error(y_test2, y_pred2)\n",
    "r2_2 = r2_score(y_test2, y_pred2)\n",
    "print(r2_2)"
   ]
  },
  {
   "cell_type": "markdown",
   "id": "559924ef-7633-4fee-ad48-0290961fe3b4",
   "metadata": {},
   "source": [
    "### d. Grant access to one person in the class. That person should be able to access the data and run the models."
   ]
  },
  {
   "cell_type": "markdown",
   "id": "79241cc6-2d3a-4834-a41f-9a6a15028320",
   "metadata": {},
   "source": [
    "### e. Create a readme file which documents the most recent model and compares it to the previous one. 1 paragraph is sufficient for this.\n",
    "\n",
    "\n",
    "https://www.datacamp.com/tutorial/sklearn-linear-regression\n",
    "\n",
    "https://www.geeksforgeeks.org/machine-learning/multiple-linear-regression-with-scikit-learn/"
   ]
  },
  {
   "cell_type": "markdown",
   "id": "fe9cacb8-4218-47c0-9d77-b80d96612597",
   "metadata": {},
   "source": [
    "## Question 2 :The first set of slides mention demand forecasting. For this, suppose you are working with “demand planners” to create demand forecasts for a set of 100 products. They products are small, tangible goods\n",
    "\n",
    "### a. What is a demand planner?\n",
    "\n",
    "* A demand planner forecasts future product or service demand by analyzing historical sales data, market trends, and other business inputs to optimize inventory and align supply with customer needs.\n",
    "\n",
    "### b. Why would a demand planner need product forecasts?\n",
    "\n",
    "* A demand planner would need product forecasts to predict future sales, enabling them to optimize inventory, align supply with demand, streamline production and logistics, and avoid stockouts and overstocking. \n",
    "\n",
    "### c. Based on searching, what is the time frequency most likely needed for these forecasts?\n",
    "\n",
    "* Demand planners typically work with multiple forecast frequencies at once. These forecats include the following.\n",
    "* **Short-term Forecasts:** Focuses on predicting demand for a short period, typically a few weeks or months for immediate operational decisions.\n",
    "* **Medium-Term Forecasts:** Covers periods of several months to a year, often used for more strategic planning like sales and operations.\n",
    "* **Long-Term Forecasts:** Predicts demand over an extended timeframe, usually one to five years or more.\n",
    "* For 100 small, tangible goods, short-term forecasts would be the time frequency most likely needed. Short-term forecasts would allow for sufficient data aggregation to reduce noise, responsiveness to market/stock changes, alignment with business cycles, and balance between accuracy and operational needs. \n",
    "\n",
    "### d. What data do you need to get started?\n",
    "\n",
    "* Historical sales data: Sales history(last few years), sales by region/channel/customer, orders by timestamp, orders by SKU, pricing/selling information\n",
    "* Product information: Attributes(size, category), product launch and discontinuation dates, promos/markdowns(include type, amount off, temporary/perminant\n",
    "* Promotional Data: Marketing events, campaign performance, price change effects\n",
    "* Inventory Data: Units sold, item counts, shipments, refunds\n",
    "* External Factors: Holidays, school breaks, weather data, competitor data, market trends\n",
    "\n",
    "### e. You are to meet with a couple of the demand planners. What are some questions you would like to ask them?\n",
    "\n",
    "* How frequently do you need updated forecasts?\n",
    "\n",
    "### f. After building the models, how would you show to the demand planners that the results should be trusted?\n",
    "\n",
    "* Historical performance\n",
    "* Ongoing Monitoring\n",
    "\n",
    "### g. Describe some characterisitcs of the data that would be needed to produductionize the models.\n",
    "\n",
    "* Accuracy\n",
    "* Timeliness\n",
    "* Consistency\n",
    "\n",
    "### h. What is your best guess as to how they would want to receive the model results?\n",
    "\n",
    "* Scheduled report\n",
    "* Dashboard\n",
    "* Excel sheet\n",
    "\n",
    "### i. What sources did you use to find these answers?\n",
    "\n",
    "* https://www.thefulfillmentlab.com/blog/demand-forecasting\n",
    "* https://www.netsuite.com/portal/resource/articles/erp/demand-planning.shtml\n",
    "* https://surgere.com/blog/demand-planning-vs-forecasting-key-differences/\n",
    "* https://demand-planning.com/2025/05/05/demand-planning-101-the-basics/\n",
    "* https://www.flieber.com/blog/demand-planning-and-forecasting\n",
    "* https://www.forgestik.com/en/blog/production-forecasting#:~:text=1.,or%20overproduction%20(excess%20inventory)."
   ]
  },
  {
   "cell_type": "markdown",
   "id": "86401947-db77-41ee-a756-10c17e82b3b5",
   "metadata": {},
   "source": [
    "## Question 3: Give as complete as possible a process diagram for the project in #2, from beginning to end. Be careful with the dependencies between steps. Include your best guesses as to time for each major step."
   ]
  },
  {
   "cell_type": "code",
   "execution_count": null,
   "id": "99443d1f-e1d5-469f-9ad3-f158d2d9087b",
   "metadata": {},
   "outputs": [],
   "source": []
  }
 ],
 "metadata": {
  "kernelspec": {
   "display_name": "Python 3 (ipykernel)",
   "language": "python",
   "name": "python3"
  },
  "language_info": {
   "codemirror_mode": {
    "name": "ipython",
    "version": 3
   },
   "file_extension": ".py",
   "mimetype": "text/x-python",
   "name": "python",
   "nbconvert_exporter": "python",
   "pygments_lexer": "ipython3",
   "version": "3.12.4"
  }
 },
 "nbformat": 4,
 "nbformat_minor": 5
}
