{
 "cells": [
  {
   "cell_type": "markdown",
   "id": "85749a31-d150-47c6-91bc-379e318df130",
   "metadata": {},
   "source": [
    "This work will involve model registries and versioning in MLFlow. It will use the dataset reg2, which a target y and 2 potential predictor variables x1 and x2. Use scikit-learn for the linear regression (for MLFlow, this is the model flavor) (so you will have to split up the data).\n",
    "\n",
    "1. Read through the quickstart and model registry tutorials linked in this directory.\n",
    "\n",
    "2. Build 3 models:\n",
    "\n",
    "a. Try a linear regression model using x1 only to predict y. Look at how well it does. Call this model model_1.\n",
    "\n",
    "b. Try a linear regression model using x2 only to predict y. Look at how well it does. Call this model model_2.\n",
    "\n",
    "c. Finally, use x1 and x2 to predict y. Compare the errors and R^2 values to the previous model. How do they compare?\n",
    "\n",
    "3. To do the version control with MLFlow, follow these steps\n",
    "\n",
    "a. Create a repository in your Git for the models\n",
    "\n",
    "b. Put the models there.\n",
    "\n",
    "c. Register the models in MLFlow (you can use the above names or\n",
    "\n",
    "4. Start and view the tracking server for the models. Turn in a pdf of your notebook, along with a screen shot of the tracking server and the requirements.txt file."
   ]
  },
  {
   "cell_type": "code",
   "execution_count": 1,
   "id": "0cd7b1f5-f28a-4467-8e31-fe8ba7bb1182",
   "metadata": {},
   "outputs": [],
   "source": [
    "import pandas as pd\n",
    "import numpy as np\n",
    "from sklearn.linear_model import LinearRegression\n",
    "import random\n",
    "from sklearn.model_selection import train_test_split\n",
    "from sklearn.metrics import r2_score, mean_squared_error, mean_absolute_error"
   ]
  },
  {
   "cell_type": "code",
   "execution_count": 25,
   "id": "cc101591-0a7d-47c7-a462-2d621d8c0e69",
   "metadata": {},
   "outputs": [
    {
     "data": {
      "text/html": [
       "<div>\n",
       "<style scoped>\n",
       "    .dataframe tbody tr th:only-of-type {\n",
       "        vertical-align: middle;\n",
       "    }\n",
       "\n",
       "    .dataframe tbody tr th {\n",
       "        vertical-align: top;\n",
       "    }\n",
       "\n",
       "    .dataframe thead th {\n",
       "        text-align: right;\n",
       "    }\n",
       "</style>\n",
       "<table border=\"1\" class=\"dataframe\">\n",
       "  <thead>\n",
       "    <tr style=\"text-align: right;\">\n",
       "      <th></th>\n",
       "      <th>y</th>\n",
       "      <th>x1</th>\n",
       "      <th>x2</th>\n",
       "      <th>Unnamed: 3</th>\n",
       "      <th>Unnamed: 4</th>\n",
       "      <th>Unnamed: 5</th>\n",
       "      <th>Unnamed: 6</th>\n",
       "    </tr>\n",
       "  </thead>\n",
       "  <tbody>\n",
       "    <tr>\n",
       "      <th>0</th>\n",
       "      <td>8.288461</td>\n",
       "      <td>4.228557</td>\n",
       "      <td>0.019050</td>\n",
       "      <td>NaN</td>\n",
       "      <td>0.108844</td>\n",
       "      <td>-0.91078</td>\n",
       "      <td>0.299667</td>\n",
       "    </tr>\n",
       "    <tr>\n",
       "      <th>1</th>\n",
       "      <td>5.758541</td>\n",
       "      <td>2.160739</td>\n",
       "      <td>1.478341</td>\n",
       "      <td>NaN</td>\n",
       "      <td>NaN</td>\n",
       "      <td>NaN</td>\n",
       "      <td>NaN</td>\n",
       "    </tr>\n",
       "    <tr>\n",
       "      <th>2</th>\n",
       "      <td>5.679527</td>\n",
       "      <td>4.903774</td>\n",
       "      <td>-4.166727</td>\n",
       "      <td>NaN</td>\n",
       "      <td>NaN</td>\n",
       "      <td>NaN</td>\n",
       "      <td>NaN</td>\n",
       "    </tr>\n",
       "    <tr>\n",
       "      <th>3</th>\n",
       "      <td>6.274630</td>\n",
       "      <td>5.429680</td>\n",
       "      <td>-4.855443</td>\n",
       "      <td>NaN</td>\n",
       "      <td>NaN</td>\n",
       "      <td>NaN</td>\n",
       "      <td>NaN</td>\n",
       "    </tr>\n",
       "    <tr>\n",
       "      <th>4</th>\n",
       "      <td>7.281397</td>\n",
       "      <td>5.206820</td>\n",
       "      <td>-3.307489</td>\n",
       "      <td>NaN</td>\n",
       "      <td>NaN</td>\n",
       "      <td>NaN</td>\n",
       "      <td>NaN</td>\n",
       "    </tr>\n",
       "  </tbody>\n",
       "</table>\n",
       "</div>"
      ],
      "text/plain": [
       "          y        x1        x2  Unnamed: 3  Unnamed: 4  Unnamed: 5  \\\n",
       "0  8.288461  4.228557  0.019050         NaN    0.108844    -0.91078   \n",
       "1  5.758541  2.160739  1.478341         NaN         NaN         NaN   \n",
       "2  5.679527  4.903774 -4.166727         NaN         NaN         NaN   \n",
       "3  6.274630  5.429680 -4.855443         NaN         NaN         NaN   \n",
       "4  7.281397  5.206820 -3.307489         NaN         NaN         NaN   \n",
       "\n",
       "   Unnamed: 6  \n",
       "0    0.299667  \n",
       "1         NaN  \n",
       "2         NaN  \n",
       "3         NaN  \n",
       "4         NaN  "
      ]
     },
     "execution_count": 25,
     "metadata": {},
     "output_type": "execute_result"
    }
   ],
   "source": [
    "reg2 = pd.read_csv(\"reg2.csv\")\n",
    "reg2.head()"
   ]
  },
  {
   "cell_type": "code",
   "execution_count": 35,
   "id": "68c6bb5d-dbb7-4e02-a085-0940bcd0f098",
   "metadata": {},
   "outputs": [
    {
     "name": "stdout",
     "output_type": "stream",
     "text": [
      "1.8380480600287157\n",
      "-0.0613851174383544\n"
     ]
    }
   ],
   "source": [
    "# model 1\n",
    "X1 = reg2[['x1']] #creating a datset with x variables\n",
    "y = reg2[['y']]\n",
    "X1_train, X1_test, y_train, y_test = train_test_split(X1, y, test_size=0.2)\n",
    "model_1 = LinearRegression()\n",
    "model_1.fit(X1_train,y_train)\n",
    "y_pred_1 = model_1.predict(X1_test)\n",
    "mse_1 = mean_squared_error(y_test, y_pred_1)\n",
    "r2_1 = r2_score(y_test, y_pred_1)\n",
    "print(mse_1)\n",
    "print(r2_1)"
   ]
  },
  {
   "cell_type": "code",
   "execution_count": 41,
   "id": "bd1b78b3-4bbc-4663-904b-bd77df128c3a",
   "metadata": {},
   "outputs": [
    {
     "name": "stdout",
     "output_type": "stream",
     "text": [
      "1.319870995418079\n",
      "0.01917095453855855\n"
     ]
    }
   ],
   "source": [
    "# model 2\n",
    "X2 = reg2[['x2']] #creating a datset with x variables\n",
    "y = reg2[['y']]\n",
    "X2_train, X2_test, y_train, y_test = train_test_split(X1, y, test_size=0.2)\n",
    "model_2 = LinearRegression()\n",
    "model_2.fit(X2_train,y_train)\n",
    "y_pred_2 = model_2.predict(X2_test)\n",
    "mse_2 = mean_squared_error(y_test, y_pred_2)\n",
    "r2_2 = r2_score(y_test, y_pred_2)\n",
    "print(mse_2)\n",
    "print(r2_2)"
   ]
  },
  {
   "cell_type": "code",
   "execution_count": 20,
   "id": "7b0d8141-b78c-4f5d-94cc-c7db28deb453",
   "metadata": {},
   "outputs": [
    {
     "name": "stdout",
     "output_type": "stream",
     "text": [
      "0.07330248957686404\n",
      "0.9451692296689822\n"
     ]
    }
   ],
   "source": [
    "# model 3\n",
    "X1_X2 = reg2[['x1','x2']] #creating a datset with x variables\n",
    "y = reg2[['y']]\n",
    "X1_X2_train, X1_X2_test, y_train, y_test = train_test_split(X1, y, test_size=0.2)\n",
    "model_3 = LinearRegression()\n",
    "model_3.fit(X1_X2_tra,y)\n",
    "y_pred_3 = model_3.predict(X1_X2)\n",
    "mse_3 = mean_squared_error(y, y_pred_3)\n",
    "r2_3 = r2_score(y, y_pred_3)\n",
    "print(mse_3)\n",
    "print(r2_3)"
   ]
  },
  {
   "cell_type": "code",
   "execution_count": null,
   "id": "782074d1-8053-4767-b211-3e37b65eacb6",
   "metadata": {},
   "outputs": [],
   "source": []
  }
 ],
 "metadata": {
  "kernelspec": {
   "display_name": "Python 3 (ipykernel)",
   "language": "python",
   "name": "python3"
  },
  "language_info": {
   "codemirror_mode": {
    "name": "ipython",
    "version": 3
   },
   "file_extension": ".py",
   "mimetype": "text/x-python",
   "name": "python",
   "nbconvert_exporter": "python",
   "pygments_lexer": "ipython3",
   "version": "3.12.4"
  }
 },
 "nbformat": 4,
 "nbformat_minor": 5
}
