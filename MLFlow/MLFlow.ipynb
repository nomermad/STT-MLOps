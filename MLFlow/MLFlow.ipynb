{
 "cells": [
  {
   "cell_type": "markdown",
   "id": "85749a31-d150-47c6-91bc-379e318df130",
   "metadata": {},
   "source": [
    "This work will involve model registries and versioning in MLFlow. It will use the dataset reg2, which a target y and 2 potential predictor variables x1 and x2. Use scikit-learn for the linear regression (for MLFlow, this is the model flavor) (so you will have to split up the data).\n",
    "\n",
    "1. Read through the quickstart and model registry tutorials linked in this directory.\n",
    "\n",
    "2. Build 3 models:\n",
    "\n",
    "a. Try a linear regression model using x1 only to predict y. Look at how well it does. Call this model model_1.\n",
    "\n",
    "b. Try a linear regression model using x2 only to predict y. Look at how well it does. Call this model model_2.\n",
    "\n",
    "c. Finally, use x1 and x2 to predict y. Compare the errors and R^2 values to the previous model. How do they compare?\n",
    "\n",
    "3. To do the version control with MLFlow, follow these steps\n",
    "\n",
    "a. Create a repository in your Git for the models\n",
    "\n",
    "b. Put the models there.\n",
    "\n",
    "c. Register the models in MLFlow (you can use the above names or\n",
    "\n",
    "4. Start and view the tracking server for the models. Turn in a pdf of your notebook, along with a screen shot of the tracking server and the requirements.txt file."
   ]
  },
  {
   "cell_type": "code",
   "execution_count": 7,
   "id": "8e52c08a-a6cf-4f25-b6ce-be5a6c2bf7e4",
   "metadata": {},
   "outputs": [
    {
     "name": "stderr",
     "output_type": "stream",
     "text": [
      "2025/09/26 12:36:20 WARNING mlflow.models.model: `artifact_path` is deprecated. Please use `name` instead.\n"
     ]
    },
    {
     "name": "stdout",
     "output_type": "stream",
     "text": [
      "Dataset preview:\n",
      "\n",
      "Model 1 (x1 only):\n",
      "RMSE: 1.1426, MAE: 0.9516, R2: -0.0089\n"
     ]
    },
    {
     "name": "stderr",
     "output_type": "stream",
     "text": [
      "Registered model 'model_1' already exists. Creating a new version of this model...\n",
      "2025/09/26 12:36:22 INFO mlflow.store.model_registry.abstract_store: Waiting up to 300 seconds for model version to finish creation. Model name: model_1, version 2\n",
      "Created version '2' of model 'model_1'.\n",
      "2025/09/26 12:36:22 WARNING mlflow.models.model: `artifact_path` is deprecated. Please use `name` instead.\n"
     ]
    },
    {
     "name": "stdout",
     "output_type": "stream",
     "text": [
      "🏃 View run model_1 at: http://127.0.0.1:5001/#/experiments/0/runs/23fe15d7d33d41da94e4e95ce4ba305a\n",
      "🧪 View experiment at: http://127.0.0.1:5001/#/experiments/0\n",
      "\n",
      "Model 2 (x2 only):\n",
      "RMSE: 1.1859, MAE: 1.0030, R2: -0.0868\n"
     ]
    },
    {
     "name": "stderr",
     "output_type": "stream",
     "text": [
      "Registered model 'model_2' already exists. Creating a new version of this model...\n",
      "2025/09/26 12:36:23 INFO mlflow.store.model_registry.abstract_store: Waiting up to 300 seconds for model version to finish creation. Model name: model_2, version 2\n",
      "Created version '2' of model 'model_2'.\n",
      "2025/09/26 12:36:23 WARNING mlflow.models.model: `artifact_path` is deprecated. Please use `name` instead.\n"
     ]
    },
    {
     "name": "stdout",
     "output_type": "stream",
     "text": [
      "🏃 View run model_2 at: http://127.0.0.1:5001/#/experiments/0/runs/b4c3455cc8a443b4a546cb1d28065429\n",
      "🧪 View experiment at: http://127.0.0.1:5001/#/experiments/0\n",
      "\n",
      "Model 3 (x1 & x2):\n",
      "RMSE: 0.2460, MAE: 0.1912, R2: 0.9532\n"
     ]
    },
    {
     "name": "stderr",
     "output_type": "stream",
     "text": [
      "Registered model 'model_3' already exists. Creating a new version of this model...\n",
      "2025/09/26 12:36:24 INFO mlflow.store.model_registry.abstract_store: Waiting up to 300 seconds for model version to finish creation. Model name: model_3, version 2\n"
     ]
    },
    {
     "name": "stdout",
     "output_type": "stream",
     "text": [
      "🏃 View run model_3 at: http://127.0.0.1:5001/#/experiments/0/runs/eb15edeb93a940bcae7568a41467f3f0\n",
      "🧪 View experiment at: http://127.0.0.1:5001/#/experiments/0\n"
     ]
    },
    {
     "name": "stderr",
     "output_type": "stream",
     "text": [
      "Created version '2' of model 'model_3'.\n"
     ]
    }
   ],
   "source": [
    "import warnings\n",
    "import logging\n",
    "import sys\n",
    "import pandas as pd\n",
    "import numpy as np\n",
    "from urllib.parse import urlparse\n",
    "import mlflow\n",
    "import mlflow.sklearn\n",
    "from mlflow.models.signature import infer_signature\n",
    "from sklearn.linear_model import LinearRegression\n",
    "from sklearn.metrics import mean_squared_error, mean_absolute_error, r2_score\n",
    "from sklearn.model_selection import train_test_split\n",
    "\n",
    "mlflow.set_tracking_uri(\"http://127.0.0.1:5001\")\n",
    "logging.basicConfig(level=logging.WARN)\n",
    "logger = logging.getLogger(__name__)\n",
    "def eval_metrics(actual, pred):\n",
    "    rmse = np.sqrt(mean_squared_error(actual, pred))\n",
    "    mae = mean_absolute_error(actual, pred)\n",
    "    r2 = r2_score(actual, pred)\n",
    "    return rmse, mae, r2\n",
    "try:\n",
    "    data = pd.read_csv(\"reg2.csv\")\n",
    "except Exception as e:\n",
    "    logger.exception(\"Unable to load dataset. Error: %s\", e)\n",
    "    sys.exit(1)\n",
    "\n",
    "print(\"Dataset Head:\")\n",
    "data.head()\n",
    "train, test = train_test_split(data, test_size=0.25, random_state=42)\n",
    "\n",
    "train_y = train[[\"y\"]]\n",
    "test_y = test[[\"y\"]]\n",
    "#model 1\n",
    "with mlflow.start_run(run_name=\"model_1\"):\n",
    "    train_x = train[[\"x1\"]]\n",
    "    test_x = test[[\"x1\"]]\n",
    "\n",
    "    lr = LinearRegression()\n",
    "    lr.fit(train_x, train_y)\n",
    "\n",
    "    preds = lr.predict(test_x)\n",
    "    (rmse, mae, r2) = eval_metrics(test_y, preds)\n",
    "\n",
    "    print(\"\\nModel 1 (x1 only):\")\n",
    "    print(f\"RMSE: {rmse:.4f}, MAE: {mae:.4f}, R2: {r2:.4f}\")\n",
    "\n",
    "    mlflow.log_param(\"features\", \"x1\")\n",
    "    mlflow.log_metric(\"rmse\", rmse)\n",
    "    mlflow.log_metric(\"mae\", mae)\n",
    "    mlflow.log_metric(\"r2\", r2)\n",
    "\n",
    "    signature = infer_signature(train_x, lr.predict(train_x))\n",
    "\n",
    "    tracking_url_type_store = urlparse(mlflow.get_tracking_uri()).scheme\n",
    "    if tracking_url_type_store != \"file\":\n",
    "        mlflow.sklearn.log_model(lr, \"model\", registered_model_name=\"model_1\", signature=signature)\n",
    "    else:\n",
    "        mlflow.sklearn.log_model(lr, \"model\", signature=signature)\n",
    "\n",
    "#model 2\n",
    "with mlflow.start_run(run_name=\"model_2\"):\n",
    "    train_x = train[[\"x2\"]]\n",
    "    test_x = test[[\"x2\"]]\n",
    "\n",
    "    lr = LinearRegression()\n",
    "    lr.fit(train_x, train_y)\n",
    "\n",
    "    preds = lr.predict(test_x)\n",
    "    (rmse, mae, r2) = eval_metrics(test_y, preds)\n",
    "\n",
    "    print(\"\\nModel 2 (x2 only):\")\n",
    "    print(f\"RMSE: {rmse:.4f}, MAE: {mae:.4f}, R2: {r2:.4f}\")\n",
    "\n",
    "    mlflow.log_param(\"features\", \"x2\")\n",
    "    mlflow.log_metric(\"rmse\", rmse)\n",
    "    mlflow.log_metric(\"mae\", mae)\n",
    "    mlflow.log_metric(\"r2\", r2)\n",
    "\n",
    "    signature = infer_signature(train_x, lr.predict(train_x))\n",
    "\n",
    "    tracking_url_type_store = urlparse(mlflow.get_tracking_uri()).scheme\n",
    "    if tracking_url_type_store != \"file\":\n",
    "        mlflow.sklearn.log_model(lr, \"model\", registered_model_name=\"model_2\", signature=signature)\n",
    "    else:\n",
    "        mlflow.sklearn.log_model(lr, \"model\", signature=signature)\n",
    "\n",
    "#model 3\n",
    "with mlflow.start_run(run_name=\"model_3\"):\n",
    "    train_x = train[[\"x1\", \"x2\"]]\n",
    "    test_x = test[[\"x1\", \"x2\"]]\n",
    "\n",
    "    lr = LinearRegression()\n",
    "    lr.fit(train_x, train_y)\n",
    "\n",
    "    preds = lr.predict(test_x)\n",
    "    (rmse, mae, r2) = eval_metrics(test_y, preds)\n",
    "\n",
    "    print(\"\\nModel 3 (x1 & x2):\")\n",
    "    print(f\"RMSE: {rmse:.4f}, MAE: {mae:.4f}, R2: {r2:.4f}\")\n",
    "\n",
    "    mlflow.log_param(\"features\", \"x1, x2\")\n",
    "    mlflow.log_metric(\"rmse\", rmse)\n",
    "    mlflow.log_metric(\"mae\", mae)\n",
    "    mlflow.log_metric(\"r2\", r2)\n",
    "\n",
    "    signature = infer_signature(train_x, lr.predict(train_x))\n",
    "\n",
    "    tracking_url_type_store = urlparse(mlflow.get_tracking_uri()).scheme\n",
    "    if tracking_url_type_store != \"file\":\n",
    "        mlflow.sklearn.log_model(lr, \"model\", registered_model_name=\"model_3\", signature=signature)\n",
    "    else:\n",
    "        mlflow.sklearn.log_model(lr, \"model\", signature=signature)\n"
   ]
  },
  {
   "cell_type": "code",
   "execution_count": null,
   "id": "88731798-1854-4ff8-8d55-5f8082542b7e",
   "metadata": {},
   "outputs": [],
   "source": []
  }
 ],
 "metadata": {
  "kernelspec": {
   "display_name": "Python 3 (ipykernel)",
   "language": "python",
   "name": "python3"
  },
  "language_info": {
   "codemirror_mode": {
    "name": "ipython",
    "version": 3
   },
   "file_extension": ".py",
   "mimetype": "text/x-python",
   "name": "python",
   "nbconvert_exporter": "python",
   "pygments_lexer": "ipython3",
   "version": "3.12.4"
  }
 },
 "nbformat": 4,
 "nbformat_minor": 5
}
