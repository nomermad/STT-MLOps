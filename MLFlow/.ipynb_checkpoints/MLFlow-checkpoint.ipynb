{
 "cells": [
  {
   "cell_type": "markdown",
   "id": "85749a31-d150-47c6-91bc-379e318df130",
   "metadata": {},
   "source": [
    "This work will involve model registries and versioning in MLFlow. It will use the dataset reg2, which a target y and 2 potential predictor variables x1 and x2. Use scikit-learn for the linear regression (for MLFlow, this is the model flavor) (so you will have to split up the data).\n",
    "\n",
    "1. Read through the quickstart and model registry tutorials linked in this directory.\n",
    "\n",
    "2. Build 3 models:\n",
    "\n",
    "a. Try a linear regression model using x1 only to predict y. Look at how well it does. Call this model model_1.\n",
    "\n",
    "b. Try a linear regression model using x2 only to predict y. Look at how well it does. Call this model model_2.\n",
    "\n",
    "c. Finally, use x1 and x2 to predict y. Compare the errors and R^2 values to the previous model. How do they compare?\n",
    "\n",
    "3. To do the version control with MLFlow, follow these steps\n",
    "\n",
    "a. Create a repository in your Git for the models\n",
    "\n",
    "b. Put the models there.\n",
    "\n",
    "c. Register the models in MLFlow (you can use the above names or\n",
    "\n",
    "4. Start and view the tracking server for the models. Turn in a pdf of your notebook, along with a screen shot of the tracking server and the requirements.txt file."
   ]
  },
  {
   "cell_type": "code",
   "execution_count": 1,
   "id": "0cd7b1f5-f28a-4467-8e31-fe8ba7bb1182",
   "metadata": {},
   "outputs": [],
   "source": [
    "import pandas as pd\n",
    "import numpy as np\n",
    "from sklearn.linear_model import LinearRegression\n",
    "import random\n",
    "from sklearn.model_selection import train_test_split\n",
    "from sklearn.metrics import r2_score, mean_squared_error, mean_absolute_error\n",
    "import mlflow\n",
    "import mlflow.sklearn"
   ]
  },
  {
   "cell_type": "code",
   "execution_count": 3,
   "id": "cc101591-0a7d-47c7-a462-2d621d8c0e69",
   "metadata": {},
   "outputs": [
    {
     "data": {
      "text/html": [
       "<div>\n",
       "<style scoped>\n",
       "    .dataframe tbody tr th:only-of-type {\n",
       "        vertical-align: middle;\n",
       "    }\n",
       "\n",
       "    .dataframe tbody tr th {\n",
       "        vertical-align: top;\n",
       "    }\n",
       "\n",
       "    .dataframe thead th {\n",
       "        text-align: right;\n",
       "    }\n",
       "</style>\n",
       "<table border=\"1\" class=\"dataframe\">\n",
       "  <thead>\n",
       "    <tr style=\"text-align: right;\">\n",
       "      <th></th>\n",
       "      <th>y</th>\n",
       "      <th>x1</th>\n",
       "      <th>x2</th>\n",
       "      <th>Unnamed: 3</th>\n",
       "      <th>Unnamed: 4</th>\n",
       "      <th>Unnamed: 5</th>\n",
       "      <th>Unnamed: 6</th>\n",
       "    </tr>\n",
       "  </thead>\n",
       "  <tbody>\n",
       "    <tr>\n",
       "      <th>0</th>\n",
       "      <td>8.288461</td>\n",
       "      <td>4.228557</td>\n",
       "      <td>0.019050</td>\n",
       "      <td>NaN</td>\n",
       "      <td>0.108844</td>\n",
       "      <td>-0.91078</td>\n",
       "      <td>0.299667</td>\n",
       "    </tr>\n",
       "    <tr>\n",
       "      <th>1</th>\n",
       "      <td>5.758541</td>\n",
       "      <td>2.160739</td>\n",
       "      <td>1.478341</td>\n",
       "      <td>NaN</td>\n",
       "      <td>NaN</td>\n",
       "      <td>NaN</td>\n",
       "      <td>NaN</td>\n",
       "    </tr>\n",
       "    <tr>\n",
       "      <th>2</th>\n",
       "      <td>5.679527</td>\n",
       "      <td>4.903774</td>\n",
       "      <td>-4.166727</td>\n",
       "      <td>NaN</td>\n",
       "      <td>NaN</td>\n",
       "      <td>NaN</td>\n",
       "      <td>NaN</td>\n",
       "    </tr>\n",
       "    <tr>\n",
       "      <th>3</th>\n",
       "      <td>6.274630</td>\n",
       "      <td>5.429680</td>\n",
       "      <td>-4.855443</td>\n",
       "      <td>NaN</td>\n",
       "      <td>NaN</td>\n",
       "      <td>NaN</td>\n",
       "      <td>NaN</td>\n",
       "    </tr>\n",
       "    <tr>\n",
       "      <th>4</th>\n",
       "      <td>7.281397</td>\n",
       "      <td>5.206820</td>\n",
       "      <td>-3.307489</td>\n",
       "      <td>NaN</td>\n",
       "      <td>NaN</td>\n",
       "      <td>NaN</td>\n",
       "      <td>NaN</td>\n",
       "    </tr>\n",
       "  </tbody>\n",
       "</table>\n",
       "</div>"
      ],
      "text/plain": [
       "          y        x1        x2  Unnamed: 3  Unnamed: 4  Unnamed: 5  \\\n",
       "0  8.288461  4.228557  0.019050         NaN    0.108844    -0.91078   \n",
       "1  5.758541  2.160739  1.478341         NaN         NaN         NaN   \n",
       "2  5.679527  4.903774 -4.166727         NaN         NaN         NaN   \n",
       "3  6.274630  5.429680 -4.855443         NaN         NaN         NaN   \n",
       "4  7.281397  5.206820 -3.307489         NaN         NaN         NaN   \n",
       "\n",
       "   Unnamed: 6  \n",
       "0    0.299667  \n",
       "1         NaN  \n",
       "2         NaN  \n",
       "3         NaN  \n",
       "4         NaN  "
      ]
     },
     "execution_count": 3,
     "metadata": {},
     "output_type": "execute_result"
    }
   ],
   "source": [
    "reg2 = pd.read_csv(\"reg2.csv\")\n",
    "reg2.head()"
   ]
  },
  {
   "cell_type": "code",
   "execution_count": 5,
   "id": "68c6bb5d-dbb7-4e02-a085-0940bcd0f098",
   "metadata": {},
   "outputs": [
    {
     "name": "stdout",
     "output_type": "stream",
     "text": [
      "1.028558354128575\n",
      "0.01208465800777725\n"
     ]
    }
   ],
   "source": [
    "# model 1\n",
    "X1 = reg2[['x1']] #creating a datset with x variables\n",
    "y = reg2[['y']]\n",
    "X1_train, X1_test, y_train, y_test = train_test_split(X1, y, test_size=0.2)\n",
    "model_1 = LinearRegression()\n",
    "model_1.fit(X1_train,y_train)\n",
    "y_pred_1 = model_1.predict(X1_test)\n",
    "mse_1 = mean_squared_error(y_test, y_pred_1)\n",
    "r2_1 = r2_score(y_test, y_pred_1)\n",
    "print(mse_1)\n",
    "print(r2_1)"
   ]
  },
  {
   "cell_type": "code",
   "execution_count": 17,
   "id": "bd1b78b3-4bbc-4663-904b-bd77df128c3a",
   "metadata": {},
   "outputs": [
    {
     "name": "stdout",
     "output_type": "stream",
     "text": [
      "1.582864922905641\n",
      "0.058709932789835384\n"
     ]
    }
   ],
   "source": [
    "# model 2\n",
    "X2 = reg2[['x2']] #creating a datset with x variables\n",
    "y = reg2[['y']]\n",
    "X2_train, X2_test, y_train, y_test = train_test_split(X2, y, test_size=0.2)\n",
    "model_2 = LinearRegression()\n",
    "model_2.fit(X2_train,y_train)\n",
    "y_pred_2 = model_2.predict(X2_test)\n",
    "mse_2 = mean_squared_error(y_test, y_pred_2)\n",
    "r2_2 = r2_score(y_test, y_pred_2)\n",
    "print(mse_2)\n",
    "print(r2_2)"
   ]
  },
  {
   "cell_type": "code",
   "execution_count": 19,
   "id": "7b0d8141-b78c-4f5d-94cc-c7db28deb453",
   "metadata": {},
   "outputs": [
    {
     "name": "stdout",
     "output_type": "stream",
     "text": [
      "0.05854423512140439\n",
      "0.9491048480224339\n"
     ]
    }
   ],
   "source": [
    "# model 3\n",
    "X1_X2 = reg2[['x1','x2']] #creating a datset with x variables\n",
    "y = reg2[['y']]\n",
    "X1_X2_train, X1_X2_test, y_train, y_test = train_test_split(X1_X2, y, test_size=0.2)\n",
    "model_3 = LinearRegression()\n",
    "model_3.fit(X1_X2_train,y_train)\n",
    "y_pred_3 = model_3.predict(X1_X2_test)\n",
    "mse_3 = mean_squared_error(y_test, y_pred_3)\n",
    "r2_3 = r2_score(y_test, y_pred_3)\n",
    "print(mse_3)\n",
    "print(r2_3)"
   ]
  },
  {
   "cell_type": "markdown",
   "id": "b12e0402-7ffb-45b7-8336-706a5bb4c641",
   "metadata": {},
   "source": [
    "# 3 MLFlow"
   ]
  },
  {
   "cell_type": "code",
   "execution_count": 21,
   "id": "4861ffa7-17c8-42c6-836e-f49f61a7775a",
   "metadata": {},
   "outputs": [],
   "source": [
    "mlflow.set_tracking_uri(\"http://localhost:5000\")"
   ]
  },
  {
   "cell_type": "code",
   "execution_count": 35,
   "id": "70c4c6f2-1e14-43ee-b31c-873f67c02661",
   "metadata": {},
   "outputs": [
    {
     "ename": "AttributeError",
     "evalue": "'google.protobuf.pyext._message.FieldDescriptor' object has no attribute 'is_repeated'",
     "output_type": "error",
     "traceback": [
      "\u001b[0;31m---------------------------------------------------------------------------\u001b[0m",
      "\u001b[0;31mAttributeError\u001b[0m                            Traceback (most recent call last)",
      "Cell \u001b[0;32mIn[35], line 1\u001b[0m\n\u001b[0;32m----> 1\u001b[0m \u001b[38;5;28;01mwith\u001b[39;00m mlflow\u001b[38;5;241m.\u001b[39mstart_run() \u001b[38;5;28;01mas\u001b[39;00m run: \n\u001b[1;32m      2\u001b[0m     X1 \u001b[38;5;241m=\u001b[39m reg2[[\u001b[38;5;124m'\u001b[39m\u001b[38;5;124mx1\u001b[39m\u001b[38;5;124m'\u001b[39m]]\n\u001b[1;32m      3\u001b[0m     y \u001b[38;5;241m=\u001b[39m reg2[[\u001b[38;5;124m'\u001b[39m\u001b[38;5;124my\u001b[39m\u001b[38;5;124m'\u001b[39m]] \n",
      "File \u001b[0;32m/opt/anaconda3/lib/python3.12/site-packages/mlflow/tracking/fluent.py:476\u001b[0m, in \u001b[0;36mstart_run\u001b[0;34m(run_id, experiment_id, run_name, nested, parent_run_id, tags, description, log_system_metrics)\u001b[0m\n\u001b[1;32m    472\u001b[0m         user_specified_tags[MLFLOW_RUN_NAME] \u001b[38;5;241m=\u001b[39m run_name\n\u001b[1;32m    474\u001b[0m     resolved_tags \u001b[38;5;241m=\u001b[39m context_registry\u001b[38;5;241m.\u001b[39mresolve_tags(user_specified_tags)\n\u001b[0;32m--> 476\u001b[0m     active_run_obj \u001b[38;5;241m=\u001b[39m client\u001b[38;5;241m.\u001b[39mcreate_run(\n\u001b[1;32m    477\u001b[0m         experiment_id\u001b[38;5;241m=\u001b[39mexp_id_for_run,\n\u001b[1;32m    478\u001b[0m         tags\u001b[38;5;241m=\u001b[39mresolved_tags,\n\u001b[1;32m    479\u001b[0m         run_name\u001b[38;5;241m=\u001b[39mrun_name,\n\u001b[1;32m    480\u001b[0m     )\n\u001b[1;32m    482\u001b[0m \u001b[38;5;28;01mif\u001b[39;00m log_system_metrics \u001b[38;5;129;01mis\u001b[39;00m \u001b[38;5;28;01mNone\u001b[39;00m:\n\u001b[1;32m    483\u001b[0m     \u001b[38;5;66;03m# If `log_system_metrics` is not specified, we will check environment variable.\u001b[39;00m\n\u001b[1;32m    484\u001b[0m     log_system_metrics \u001b[38;5;241m=\u001b[39m MLFLOW_ENABLE_SYSTEM_METRICS_LOGGING\u001b[38;5;241m.\u001b[39mget()\n",
      "File \u001b[0;32m/opt/anaconda3/lib/python3.12/site-packages/mlflow/tracking/client.py:477\u001b[0m, in \u001b[0;36mMlflowClient.create_run\u001b[0;34m(self, experiment_id, start_time, tags, run_name)\u001b[0m\n\u001b[1;32m    423\u001b[0m \u001b[38;5;28;01mdef\u001b[39;00m \u001b[38;5;21mcreate_run\u001b[39m(\n\u001b[1;32m    424\u001b[0m     \u001b[38;5;28mself\u001b[39m,\n\u001b[1;32m    425\u001b[0m     experiment_id: \u001b[38;5;28mstr\u001b[39m,\n\u001b[0;32m   (...)\u001b[0m\n\u001b[1;32m    428\u001b[0m     run_name: \u001b[38;5;28mstr\u001b[39m \u001b[38;5;241m|\u001b[39m \u001b[38;5;28;01mNone\u001b[39;00m \u001b[38;5;241m=\u001b[39m \u001b[38;5;28;01mNone\u001b[39;00m,\n\u001b[1;32m    429\u001b[0m ) \u001b[38;5;241m-\u001b[39m\u001b[38;5;241m>\u001b[39m Run:\n\u001b[1;32m    430\u001b[0m \u001b[38;5;250m    \u001b[39m\u001b[38;5;124;03m\"\"\"\u001b[39;00m\n\u001b[1;32m    431\u001b[0m \u001b[38;5;124;03m    Create a :py:class:`mlflow.entities.Run` object that can be associated with\u001b[39;00m\n\u001b[1;32m    432\u001b[0m \u001b[38;5;124;03m    metrics, parameters, artifacts, etc.\u001b[39;00m\n\u001b[0;32m   (...)\u001b[0m\n\u001b[1;32m    475\u001b[0m \u001b[38;5;124;03m        status: RUNNING\u001b[39;00m\n\u001b[1;32m    476\u001b[0m \u001b[38;5;124;03m    \"\"\"\u001b[39;00m\n\u001b[0;32m--> 477\u001b[0m     \u001b[38;5;28;01mreturn\u001b[39;00m \u001b[38;5;28mself\u001b[39m\u001b[38;5;241m.\u001b[39m_tracking_client\u001b[38;5;241m.\u001b[39mcreate_run(experiment_id, start_time, tags, run_name)\n",
      "File \u001b[0;32m/opt/anaconda3/lib/python3.12/site-packages/mlflow/telemetry/track.py:30\u001b[0m, in \u001b[0;36mrecord_usage_event.<locals>.decorator.<locals>.wrapper\u001b[0;34m(*args, **kwargs)\u001b[0m\n\u001b[1;32m     28\u001b[0m start_time \u001b[38;5;241m=\u001b[39m time\u001b[38;5;241m.\u001b[39mtime()\n\u001b[1;32m     29\u001b[0m \u001b[38;5;28;01mtry\u001b[39;00m:\n\u001b[0;32m---> 30\u001b[0m     result \u001b[38;5;241m=\u001b[39m func(\u001b[38;5;241m*\u001b[39margs, \u001b[38;5;241m*\u001b[39m\u001b[38;5;241m*\u001b[39mkwargs)\n\u001b[1;32m     31\u001b[0m     \u001b[38;5;28;01mreturn\u001b[39;00m result  \u001b[38;5;66;03m# noqa: RET504\u001b[39;00m\n\u001b[1;32m     32\u001b[0m \u001b[38;5;28;01mexcept\u001b[39;00m \u001b[38;5;167;01mException\u001b[39;00m:\n",
      "File \u001b[0;32m/opt/anaconda3/lib/python3.12/site-packages/mlflow/tracking/_tracking_service/client.py:182\u001b[0m, in \u001b[0;36mTrackingServiceClient.create_run\u001b[0;34m(self, experiment_id, start_time, tags, run_name)\u001b[0m\n\u001b[1;32m    177\u001b[0m \u001b[38;5;66;03m# Extract user from tags\u001b[39;00m\n\u001b[1;32m    178\u001b[0m \u001b[38;5;66;03m# This logic is temporary; the user_id attribute of runs is deprecated and will be removed\u001b[39;00m\n\u001b[1;32m    179\u001b[0m \u001b[38;5;66;03m# in a later release.\u001b[39;00m\n\u001b[1;32m    180\u001b[0m user_id \u001b[38;5;241m=\u001b[39m tags\u001b[38;5;241m.\u001b[39mget(MLFLOW_USER, \u001b[38;5;124m\"\u001b[39m\u001b[38;5;124munknown\u001b[39m\u001b[38;5;124m\"\u001b[39m)\n\u001b[0;32m--> 182\u001b[0m \u001b[38;5;28;01mreturn\u001b[39;00m \u001b[38;5;28mself\u001b[39m\u001b[38;5;241m.\u001b[39mstore\u001b[38;5;241m.\u001b[39mcreate_run(\n\u001b[1;32m    183\u001b[0m     experiment_id\u001b[38;5;241m=\u001b[39mexperiment_id,\n\u001b[1;32m    184\u001b[0m     user_id\u001b[38;5;241m=\u001b[39muser_id,\n\u001b[1;32m    185\u001b[0m     start_time\u001b[38;5;241m=\u001b[39mstart_time \u001b[38;5;129;01mor\u001b[39;00m get_current_time_millis(),\n\u001b[1;32m    186\u001b[0m     tags\u001b[38;5;241m=\u001b[39m[RunTag(key, value) \u001b[38;5;28;01mfor\u001b[39;00m (key, value) \u001b[38;5;129;01min\u001b[39;00m tags\u001b[38;5;241m.\u001b[39mitems()],\n\u001b[1;32m    187\u001b[0m     run_name\u001b[38;5;241m=\u001b[39mrun_name,\n\u001b[1;32m    188\u001b[0m )\n",
      "File \u001b[0;32m/opt/anaconda3/lib/python3.12/site-packages/mlflow/store/tracking/rest_store.py:328\u001b[0m, in \u001b[0;36mRestStore.create_run\u001b[0;34m(self, experiment_id, user_id, start_time, tags, run_name)\u001b[0m\n\u001b[1;32m    312\u001b[0m \u001b[38;5;250m\u001b[39m\u001b[38;5;124;03m\"\"\"\u001b[39;00m\n\u001b[1;32m    313\u001b[0m \u001b[38;5;124;03mCreate a run under the specified experiment ID, setting the run's status to \"RUNNING\"\u001b[39;00m\n\u001b[1;32m    314\u001b[0m \u001b[38;5;124;03mand the start time to the current time.\u001b[39;00m\n\u001b[0;32m   (...)\u001b[0m\n\u001b[1;32m    324\u001b[0m \u001b[38;5;124;03m    The created Run object.\u001b[39;00m\n\u001b[1;32m    325\u001b[0m \u001b[38;5;124;03m\"\"\"\u001b[39;00m\n\u001b[1;32m    327\u001b[0m tag_protos \u001b[38;5;241m=\u001b[39m [tag\u001b[38;5;241m.\u001b[39mto_proto() \u001b[38;5;28;01mfor\u001b[39;00m tag \u001b[38;5;129;01min\u001b[39;00m tags]\n\u001b[0;32m--> 328\u001b[0m req_body \u001b[38;5;241m=\u001b[39m message_to_json(\n\u001b[1;32m    329\u001b[0m     CreateRun(\n\u001b[1;32m    330\u001b[0m         experiment_id\u001b[38;5;241m=\u001b[39m\u001b[38;5;28mstr\u001b[39m(experiment_id),\n\u001b[1;32m    331\u001b[0m         user_id\u001b[38;5;241m=\u001b[39muser_id,\n\u001b[1;32m    332\u001b[0m         start_time\u001b[38;5;241m=\u001b[39mstart_time,\n\u001b[1;32m    333\u001b[0m         tags\u001b[38;5;241m=\u001b[39mtag_protos,\n\u001b[1;32m    334\u001b[0m         run_name\u001b[38;5;241m=\u001b[39mrun_name,\n\u001b[1;32m    335\u001b[0m     )\n\u001b[1;32m    336\u001b[0m )\n\u001b[1;32m    337\u001b[0m response_proto \u001b[38;5;241m=\u001b[39m \u001b[38;5;28mself\u001b[39m\u001b[38;5;241m.\u001b[39m_call_endpoint(CreateRun, req_body)\n\u001b[1;32m    338\u001b[0m \u001b[38;5;28;01mreturn\u001b[39;00m Run\u001b[38;5;241m.\u001b[39mfrom_proto(response_proto\u001b[38;5;241m.\u001b[39mrun)\n",
      "File \u001b[0;32m/opt/anaconda3/lib/python3.12/site-packages/mlflow/utils/proto_json_utils.py:117\u001b[0m, in \u001b[0;36mmessage_to_json\u001b[0;34m(message)\u001b[0m\n\u001b[1;32m    112\u001b[0m \u001b[38;5;250m\u001b[39m\u001b[38;5;124;03m\"\"\"Converts a message to JSON, using snake_case for field names.\"\"\"\u001b[39;00m\n\u001b[1;32m    114\u001b[0m \u001b[38;5;66;03m# Google's MessageToJson API converts int64 proto fields to JSON strings.\u001b[39;00m\n\u001b[1;32m    115\u001b[0m \u001b[38;5;66;03m# For more info, see https://github.com/protocolbuffers/protobuf/issues/2954\u001b[39;00m\n\u001b[1;32m    116\u001b[0m json_dict_with_int64_as_str \u001b[38;5;241m=\u001b[39m json\u001b[38;5;241m.\u001b[39mloads(\n\u001b[0;32m--> 117\u001b[0m     MessageToJson(message, preserving_proto_field_name\u001b[38;5;241m=\u001b[39m\u001b[38;5;28;01mTrue\u001b[39;00m)\n\u001b[1;32m    118\u001b[0m )\n\u001b[1;32m    119\u001b[0m \u001b[38;5;66;03m# We convert this proto message into a JSON dict where only int64 proto fields\u001b[39;00m\n\u001b[1;32m    120\u001b[0m \u001b[38;5;66;03m# are preserved, and they are treated as JSON numbers, not strings.\u001b[39;00m\n\u001b[1;32m    121\u001b[0m json_dict_with_int64_fields_only \u001b[38;5;241m=\u001b[39m _mark_int64_fields(message)\n",
      "File \u001b[0;32m/opt/anaconda3/lib/python3.12/site-packages/google/protobuf/json_format.py:125\u001b[0m, in \u001b[0;36mMessageToJson\u001b[0;34m(message, preserving_proto_field_name, indent, sort_keys, use_integers_for_enums, descriptor_pool, float_precision, ensure_ascii, always_print_fields_with_no_presence)\u001b[0m\n\u001b[1;32m     92\u001b[0m \u001b[38;5;250m\u001b[39m\u001b[38;5;124;03m\"\"\"Converts protobuf message to JSON format.\u001b[39;00m\n\u001b[1;32m     93\u001b[0m \n\u001b[1;32m     94\u001b[0m \u001b[38;5;124;03mArgs:\u001b[39;00m\n\u001b[0;32m   (...)\u001b[0m\n\u001b[1;32m    116\u001b[0m \u001b[38;5;124;03m  A string containing the JSON formatted protocol buffer message.\u001b[39;00m\n\u001b[1;32m    117\u001b[0m \u001b[38;5;124;03m\"\"\"\u001b[39;00m\n\u001b[1;32m    118\u001b[0m printer \u001b[38;5;241m=\u001b[39m _Printer(\n\u001b[1;32m    119\u001b[0m     preserving_proto_field_name,\n\u001b[1;32m    120\u001b[0m     use_integers_for_enums,\n\u001b[0;32m   (...)\u001b[0m\n\u001b[1;32m    123\u001b[0m     always_print_fields_with_no_presence,\n\u001b[1;32m    124\u001b[0m )\n\u001b[0;32m--> 125\u001b[0m \u001b[38;5;28;01mreturn\u001b[39;00m printer\u001b[38;5;241m.\u001b[39mToJsonString(message, indent, sort_keys, ensure_ascii)\n",
      "File \u001b[0;32m/opt/anaconda3/lib/python3.12/site-packages/google/protobuf/json_format.py:205\u001b[0m, in \u001b[0;36m_Printer.ToJsonString\u001b[0;34m(self, message, indent, sort_keys, ensure_ascii)\u001b[0m\n\u001b[1;32m    204\u001b[0m \u001b[38;5;28;01mdef\u001b[39;00m \u001b[38;5;21mToJsonString\u001b[39m(\u001b[38;5;28mself\u001b[39m, message, indent, sort_keys, ensure_ascii):\n\u001b[0;32m--> 205\u001b[0m   js \u001b[38;5;241m=\u001b[39m \u001b[38;5;28mself\u001b[39m\u001b[38;5;241m.\u001b[39m_MessageToJsonObject(message)\n\u001b[1;32m    206\u001b[0m   \u001b[38;5;28;01mreturn\u001b[39;00m json\u001b[38;5;241m.\u001b[39mdumps(\n\u001b[1;32m    207\u001b[0m       js, indent\u001b[38;5;241m=\u001b[39mindent, sort_keys\u001b[38;5;241m=\u001b[39msort_keys, ensure_ascii\u001b[38;5;241m=\u001b[39mensure_ascii\n\u001b[1;32m    208\u001b[0m   )\n",
      "File \u001b[0;32m/opt/anaconda3/lib/python3.12/site-packages/google/protobuf/json_format.py:219\u001b[0m, in \u001b[0;36m_Printer._MessageToJsonObject\u001b[0;34m(self, message)\u001b[0m\n\u001b[1;32m    217\u001b[0m   \u001b[38;5;28;01mreturn\u001b[39;00m methodcaller(_WKTJSONMETHODS[full_name][\u001b[38;5;241m0\u001b[39m], message)(\u001b[38;5;28mself\u001b[39m)\n\u001b[1;32m    218\u001b[0m js \u001b[38;5;241m=\u001b[39m {}\n\u001b[0;32m--> 219\u001b[0m \u001b[38;5;28;01mreturn\u001b[39;00m \u001b[38;5;28mself\u001b[39m\u001b[38;5;241m.\u001b[39m_RegularMessageToJsonObject(message, js)\n",
      "File \u001b[0;32m/opt/anaconda3/lib/python3.12/site-packages/google/protobuf/json_format.py:245\u001b[0m, in \u001b[0;36m_Printer._RegularMessageToJsonObject\u001b[0;34m(self, message, js)\u001b[0m\n\u001b[1;32m    243\u001b[0m     js_map[recorded_key] \u001b[38;5;241m=\u001b[39m \u001b[38;5;28mself\u001b[39m\u001b[38;5;241m.\u001b[39m_FieldToJsonObject(v_field, value[key])\n\u001b[1;32m    244\u001b[0m   js[name] \u001b[38;5;241m=\u001b[39m js_map\n\u001b[0;32m--> 245\u001b[0m \u001b[38;5;28;01melif\u001b[39;00m field\u001b[38;5;241m.\u001b[39mis_repeated:\n\u001b[1;32m    246\u001b[0m   \u001b[38;5;66;03m# Convert a repeated field.\u001b[39;00m\n\u001b[1;32m    247\u001b[0m   js[name] \u001b[38;5;241m=\u001b[39m [\u001b[38;5;28mself\u001b[39m\u001b[38;5;241m.\u001b[39m_FieldToJsonObject(field, k) \u001b[38;5;28;01mfor\u001b[39;00m k \u001b[38;5;129;01min\u001b[39;00m value]\n\u001b[1;32m    248\u001b[0m \u001b[38;5;28;01melif\u001b[39;00m field\u001b[38;5;241m.\u001b[39mis_extension:\n",
      "\u001b[0;31mAttributeError\u001b[0m: 'google.protobuf.pyext._message.FieldDescriptor' object has no attribute 'is_repeated'"
     ]
    }
   ],
   "source": [
    "with mlflow.start_run() as run: \n",
    "    X1 = reg2[['x1']]\n",
    "    y = reg2[['y']] \n",
    "    X1_train, X1_test, y_train, y_test = train_test_split(X1, y, test_size=0.2) \n",
    "    model_1 = LinearRegression() \n",
    "    model_1.fit(X1_train,y_train) \n",
    "    y_pred_1 = model_1.predict(X1_test) \n",
    "    mse = mean_squared_error(y_test.values.ravel(), y_pred_1.ravel())\n",
    "    mlflow.log_metrics({\"mse\": mse})\n",
    "    mlflow.sklearn.log_model(sk_model=model_1, \n",
    "                             name=\"sklearn-model\", \n",
    "                             input_example=X1_train, \n",
    "                             registered_model_name=\"model_1\", )"
   ]
  },
  {
   "cell_type": "code",
   "execution_count": 23,
   "id": "8132e92e-1dcd-4dc2-9737-dbbc5f83046d",
   "metadata": {},
   "outputs": [
    {
     "ename": "AttributeError",
     "evalue": "'google.protobuf.pyext._message.FieldDescriptor' object has no attribute 'is_repeated'",
     "output_type": "error",
     "traceback": [
      "\u001b[0;31m---------------------------------------------------------------------------\u001b[0m",
      "\u001b[0;31mAttributeError\u001b[0m                            Traceback (most recent call last)",
      "Cell \u001b[0;32mIn[23], line 1\u001b[0m\n\u001b[0;32m----> 1\u001b[0m \u001b[38;5;28;01mwith\u001b[39;00m mlflow\u001b[38;5;241m.\u001b[39mstart_run(run_name\u001b[38;5;241m=\u001b[39m\u001b[38;5;124m\"\u001b[39m\u001b[38;5;124mmodel_1\u001b[39m\u001b[38;5;124m\"\u001b[39m):\n\u001b[1;32m      2\u001b[0m     X \u001b[38;5;241m=\u001b[39m reg2[[\u001b[38;5;124m'\u001b[39m\u001b[38;5;124mx1\u001b[39m\u001b[38;5;124m'\u001b[39m]]\n\u001b[1;32m      3\u001b[0m     y \u001b[38;5;241m=\u001b[39m reg2[\u001b[38;5;124m'\u001b[39m\u001b[38;5;124my\u001b[39m\u001b[38;5;124m'\u001b[39m]\n",
      "File \u001b[0;32m/opt/anaconda3/lib/python3.12/site-packages/mlflow/tracking/fluent.py:476\u001b[0m, in \u001b[0;36mstart_run\u001b[0;34m(run_id, experiment_id, run_name, nested, parent_run_id, tags, description, log_system_metrics)\u001b[0m\n\u001b[1;32m    472\u001b[0m         user_specified_tags[MLFLOW_RUN_NAME] \u001b[38;5;241m=\u001b[39m run_name\n\u001b[1;32m    474\u001b[0m     resolved_tags \u001b[38;5;241m=\u001b[39m context_registry\u001b[38;5;241m.\u001b[39mresolve_tags(user_specified_tags)\n\u001b[0;32m--> 476\u001b[0m     active_run_obj \u001b[38;5;241m=\u001b[39m client\u001b[38;5;241m.\u001b[39mcreate_run(\n\u001b[1;32m    477\u001b[0m         experiment_id\u001b[38;5;241m=\u001b[39mexp_id_for_run,\n\u001b[1;32m    478\u001b[0m         tags\u001b[38;5;241m=\u001b[39mresolved_tags,\n\u001b[1;32m    479\u001b[0m         run_name\u001b[38;5;241m=\u001b[39mrun_name,\n\u001b[1;32m    480\u001b[0m     )\n\u001b[1;32m    482\u001b[0m \u001b[38;5;28;01mif\u001b[39;00m log_system_metrics \u001b[38;5;129;01mis\u001b[39;00m \u001b[38;5;28;01mNone\u001b[39;00m:\n\u001b[1;32m    483\u001b[0m     \u001b[38;5;66;03m# If `log_system_metrics` is not specified, we will check environment variable.\u001b[39;00m\n\u001b[1;32m    484\u001b[0m     log_system_metrics \u001b[38;5;241m=\u001b[39m MLFLOW_ENABLE_SYSTEM_METRICS_LOGGING\u001b[38;5;241m.\u001b[39mget()\n",
      "File \u001b[0;32m/opt/anaconda3/lib/python3.12/site-packages/mlflow/tracking/client.py:477\u001b[0m, in \u001b[0;36mMlflowClient.create_run\u001b[0;34m(self, experiment_id, start_time, tags, run_name)\u001b[0m\n\u001b[1;32m    423\u001b[0m \u001b[38;5;28;01mdef\u001b[39;00m \u001b[38;5;21mcreate_run\u001b[39m(\n\u001b[1;32m    424\u001b[0m     \u001b[38;5;28mself\u001b[39m,\n\u001b[1;32m    425\u001b[0m     experiment_id: \u001b[38;5;28mstr\u001b[39m,\n\u001b[0;32m   (...)\u001b[0m\n\u001b[1;32m    428\u001b[0m     run_name: \u001b[38;5;28mstr\u001b[39m \u001b[38;5;241m|\u001b[39m \u001b[38;5;28;01mNone\u001b[39;00m \u001b[38;5;241m=\u001b[39m \u001b[38;5;28;01mNone\u001b[39;00m,\n\u001b[1;32m    429\u001b[0m ) \u001b[38;5;241m-\u001b[39m\u001b[38;5;241m>\u001b[39m Run:\n\u001b[1;32m    430\u001b[0m \u001b[38;5;250m    \u001b[39m\u001b[38;5;124;03m\"\"\"\u001b[39;00m\n\u001b[1;32m    431\u001b[0m \u001b[38;5;124;03m    Create a :py:class:`mlflow.entities.Run` object that can be associated with\u001b[39;00m\n\u001b[1;32m    432\u001b[0m \u001b[38;5;124;03m    metrics, parameters, artifacts, etc.\u001b[39;00m\n\u001b[0;32m   (...)\u001b[0m\n\u001b[1;32m    475\u001b[0m \u001b[38;5;124;03m        status: RUNNING\u001b[39;00m\n\u001b[1;32m    476\u001b[0m \u001b[38;5;124;03m    \"\"\"\u001b[39;00m\n\u001b[0;32m--> 477\u001b[0m     \u001b[38;5;28;01mreturn\u001b[39;00m \u001b[38;5;28mself\u001b[39m\u001b[38;5;241m.\u001b[39m_tracking_client\u001b[38;5;241m.\u001b[39mcreate_run(experiment_id, start_time, tags, run_name)\n",
      "File \u001b[0;32m/opt/anaconda3/lib/python3.12/site-packages/mlflow/telemetry/track.py:30\u001b[0m, in \u001b[0;36mrecord_usage_event.<locals>.decorator.<locals>.wrapper\u001b[0;34m(*args, **kwargs)\u001b[0m\n\u001b[1;32m     28\u001b[0m start_time \u001b[38;5;241m=\u001b[39m time\u001b[38;5;241m.\u001b[39mtime()\n\u001b[1;32m     29\u001b[0m \u001b[38;5;28;01mtry\u001b[39;00m:\n\u001b[0;32m---> 30\u001b[0m     result \u001b[38;5;241m=\u001b[39m func(\u001b[38;5;241m*\u001b[39margs, \u001b[38;5;241m*\u001b[39m\u001b[38;5;241m*\u001b[39mkwargs)\n\u001b[1;32m     31\u001b[0m     \u001b[38;5;28;01mreturn\u001b[39;00m result  \u001b[38;5;66;03m# noqa: RET504\u001b[39;00m\n\u001b[1;32m     32\u001b[0m \u001b[38;5;28;01mexcept\u001b[39;00m \u001b[38;5;167;01mException\u001b[39;00m:\n",
      "File \u001b[0;32m/opt/anaconda3/lib/python3.12/site-packages/mlflow/tracking/_tracking_service/client.py:182\u001b[0m, in \u001b[0;36mTrackingServiceClient.create_run\u001b[0;34m(self, experiment_id, start_time, tags, run_name)\u001b[0m\n\u001b[1;32m    177\u001b[0m \u001b[38;5;66;03m# Extract user from tags\u001b[39;00m\n\u001b[1;32m    178\u001b[0m \u001b[38;5;66;03m# This logic is temporary; the user_id attribute of runs is deprecated and will be removed\u001b[39;00m\n\u001b[1;32m    179\u001b[0m \u001b[38;5;66;03m# in a later release.\u001b[39;00m\n\u001b[1;32m    180\u001b[0m user_id \u001b[38;5;241m=\u001b[39m tags\u001b[38;5;241m.\u001b[39mget(MLFLOW_USER, \u001b[38;5;124m\"\u001b[39m\u001b[38;5;124munknown\u001b[39m\u001b[38;5;124m\"\u001b[39m)\n\u001b[0;32m--> 182\u001b[0m \u001b[38;5;28;01mreturn\u001b[39;00m \u001b[38;5;28mself\u001b[39m\u001b[38;5;241m.\u001b[39mstore\u001b[38;5;241m.\u001b[39mcreate_run(\n\u001b[1;32m    183\u001b[0m     experiment_id\u001b[38;5;241m=\u001b[39mexperiment_id,\n\u001b[1;32m    184\u001b[0m     user_id\u001b[38;5;241m=\u001b[39muser_id,\n\u001b[1;32m    185\u001b[0m     start_time\u001b[38;5;241m=\u001b[39mstart_time \u001b[38;5;129;01mor\u001b[39;00m get_current_time_millis(),\n\u001b[1;32m    186\u001b[0m     tags\u001b[38;5;241m=\u001b[39m[RunTag(key, value) \u001b[38;5;28;01mfor\u001b[39;00m (key, value) \u001b[38;5;129;01min\u001b[39;00m tags\u001b[38;5;241m.\u001b[39mitems()],\n\u001b[1;32m    187\u001b[0m     run_name\u001b[38;5;241m=\u001b[39mrun_name,\n\u001b[1;32m    188\u001b[0m )\n",
      "File \u001b[0;32m/opt/anaconda3/lib/python3.12/site-packages/mlflow/store/tracking/rest_store.py:328\u001b[0m, in \u001b[0;36mRestStore.create_run\u001b[0;34m(self, experiment_id, user_id, start_time, tags, run_name)\u001b[0m\n\u001b[1;32m    312\u001b[0m \u001b[38;5;250m\u001b[39m\u001b[38;5;124;03m\"\"\"\u001b[39;00m\n\u001b[1;32m    313\u001b[0m \u001b[38;5;124;03mCreate a run under the specified experiment ID, setting the run's status to \"RUNNING\"\u001b[39;00m\n\u001b[1;32m    314\u001b[0m \u001b[38;5;124;03mand the start time to the current time.\u001b[39;00m\n\u001b[0;32m   (...)\u001b[0m\n\u001b[1;32m    324\u001b[0m \u001b[38;5;124;03m    The created Run object.\u001b[39;00m\n\u001b[1;32m    325\u001b[0m \u001b[38;5;124;03m\"\"\"\u001b[39;00m\n\u001b[1;32m    327\u001b[0m tag_protos \u001b[38;5;241m=\u001b[39m [tag\u001b[38;5;241m.\u001b[39mto_proto() \u001b[38;5;28;01mfor\u001b[39;00m tag \u001b[38;5;129;01min\u001b[39;00m tags]\n\u001b[0;32m--> 328\u001b[0m req_body \u001b[38;5;241m=\u001b[39m message_to_json(\n\u001b[1;32m    329\u001b[0m     CreateRun(\n\u001b[1;32m    330\u001b[0m         experiment_id\u001b[38;5;241m=\u001b[39m\u001b[38;5;28mstr\u001b[39m(experiment_id),\n\u001b[1;32m    331\u001b[0m         user_id\u001b[38;5;241m=\u001b[39muser_id,\n\u001b[1;32m    332\u001b[0m         start_time\u001b[38;5;241m=\u001b[39mstart_time,\n\u001b[1;32m    333\u001b[0m         tags\u001b[38;5;241m=\u001b[39mtag_protos,\n\u001b[1;32m    334\u001b[0m         run_name\u001b[38;5;241m=\u001b[39mrun_name,\n\u001b[1;32m    335\u001b[0m     )\n\u001b[1;32m    336\u001b[0m )\n\u001b[1;32m    337\u001b[0m response_proto \u001b[38;5;241m=\u001b[39m \u001b[38;5;28mself\u001b[39m\u001b[38;5;241m.\u001b[39m_call_endpoint(CreateRun, req_body)\n\u001b[1;32m    338\u001b[0m \u001b[38;5;28;01mreturn\u001b[39;00m Run\u001b[38;5;241m.\u001b[39mfrom_proto(response_proto\u001b[38;5;241m.\u001b[39mrun)\n",
      "File \u001b[0;32m/opt/anaconda3/lib/python3.12/site-packages/mlflow/utils/proto_json_utils.py:117\u001b[0m, in \u001b[0;36mmessage_to_json\u001b[0;34m(message)\u001b[0m\n\u001b[1;32m    112\u001b[0m \u001b[38;5;250m\u001b[39m\u001b[38;5;124;03m\"\"\"Converts a message to JSON, using snake_case for field names.\"\"\"\u001b[39;00m\n\u001b[1;32m    114\u001b[0m \u001b[38;5;66;03m# Google's MessageToJson API converts int64 proto fields to JSON strings.\u001b[39;00m\n\u001b[1;32m    115\u001b[0m \u001b[38;5;66;03m# For more info, see https://github.com/protocolbuffers/protobuf/issues/2954\u001b[39;00m\n\u001b[1;32m    116\u001b[0m json_dict_with_int64_as_str \u001b[38;5;241m=\u001b[39m json\u001b[38;5;241m.\u001b[39mloads(\n\u001b[0;32m--> 117\u001b[0m     MessageToJson(message, preserving_proto_field_name\u001b[38;5;241m=\u001b[39m\u001b[38;5;28;01mTrue\u001b[39;00m)\n\u001b[1;32m    118\u001b[0m )\n\u001b[1;32m    119\u001b[0m \u001b[38;5;66;03m# We convert this proto message into a JSON dict where only int64 proto fields\u001b[39;00m\n\u001b[1;32m    120\u001b[0m \u001b[38;5;66;03m# are preserved, and they are treated as JSON numbers, not strings.\u001b[39;00m\n\u001b[1;32m    121\u001b[0m json_dict_with_int64_fields_only \u001b[38;5;241m=\u001b[39m _mark_int64_fields(message)\n",
      "File \u001b[0;32m/opt/anaconda3/lib/python3.12/site-packages/google/protobuf/json_format.py:125\u001b[0m, in \u001b[0;36mMessageToJson\u001b[0;34m(message, preserving_proto_field_name, indent, sort_keys, use_integers_for_enums, descriptor_pool, float_precision, ensure_ascii, always_print_fields_with_no_presence)\u001b[0m\n\u001b[1;32m     92\u001b[0m \u001b[38;5;250m\u001b[39m\u001b[38;5;124;03m\"\"\"Converts protobuf message to JSON format.\u001b[39;00m\n\u001b[1;32m     93\u001b[0m \n\u001b[1;32m     94\u001b[0m \u001b[38;5;124;03mArgs:\u001b[39;00m\n\u001b[0;32m   (...)\u001b[0m\n\u001b[1;32m    116\u001b[0m \u001b[38;5;124;03m  A string containing the JSON formatted protocol buffer message.\u001b[39;00m\n\u001b[1;32m    117\u001b[0m \u001b[38;5;124;03m\"\"\"\u001b[39;00m\n\u001b[1;32m    118\u001b[0m printer \u001b[38;5;241m=\u001b[39m _Printer(\n\u001b[1;32m    119\u001b[0m     preserving_proto_field_name,\n\u001b[1;32m    120\u001b[0m     use_integers_for_enums,\n\u001b[0;32m   (...)\u001b[0m\n\u001b[1;32m    123\u001b[0m     always_print_fields_with_no_presence,\n\u001b[1;32m    124\u001b[0m )\n\u001b[0;32m--> 125\u001b[0m \u001b[38;5;28;01mreturn\u001b[39;00m printer\u001b[38;5;241m.\u001b[39mToJsonString(message, indent, sort_keys, ensure_ascii)\n",
      "File \u001b[0;32m/opt/anaconda3/lib/python3.12/site-packages/google/protobuf/json_format.py:205\u001b[0m, in \u001b[0;36m_Printer.ToJsonString\u001b[0;34m(self, message, indent, sort_keys, ensure_ascii)\u001b[0m\n\u001b[1;32m    204\u001b[0m \u001b[38;5;28;01mdef\u001b[39;00m \u001b[38;5;21mToJsonString\u001b[39m(\u001b[38;5;28mself\u001b[39m, message, indent, sort_keys, ensure_ascii):\n\u001b[0;32m--> 205\u001b[0m   js \u001b[38;5;241m=\u001b[39m \u001b[38;5;28mself\u001b[39m\u001b[38;5;241m.\u001b[39m_MessageToJsonObject(message)\n\u001b[1;32m    206\u001b[0m   \u001b[38;5;28;01mreturn\u001b[39;00m json\u001b[38;5;241m.\u001b[39mdumps(\n\u001b[1;32m    207\u001b[0m       js, indent\u001b[38;5;241m=\u001b[39mindent, sort_keys\u001b[38;5;241m=\u001b[39msort_keys, ensure_ascii\u001b[38;5;241m=\u001b[39mensure_ascii\n\u001b[1;32m    208\u001b[0m   )\n",
      "File \u001b[0;32m/opt/anaconda3/lib/python3.12/site-packages/google/protobuf/json_format.py:219\u001b[0m, in \u001b[0;36m_Printer._MessageToJsonObject\u001b[0;34m(self, message)\u001b[0m\n\u001b[1;32m    217\u001b[0m   \u001b[38;5;28;01mreturn\u001b[39;00m methodcaller(_WKTJSONMETHODS[full_name][\u001b[38;5;241m0\u001b[39m], message)(\u001b[38;5;28mself\u001b[39m)\n\u001b[1;32m    218\u001b[0m js \u001b[38;5;241m=\u001b[39m {}\n\u001b[0;32m--> 219\u001b[0m \u001b[38;5;28;01mreturn\u001b[39;00m \u001b[38;5;28mself\u001b[39m\u001b[38;5;241m.\u001b[39m_RegularMessageToJsonObject(message, js)\n",
      "File \u001b[0;32m/opt/anaconda3/lib/python3.12/site-packages/google/protobuf/json_format.py:245\u001b[0m, in \u001b[0;36m_Printer._RegularMessageToJsonObject\u001b[0;34m(self, message, js)\u001b[0m\n\u001b[1;32m    243\u001b[0m     js_map[recorded_key] \u001b[38;5;241m=\u001b[39m \u001b[38;5;28mself\u001b[39m\u001b[38;5;241m.\u001b[39m_FieldToJsonObject(v_field, value[key])\n\u001b[1;32m    244\u001b[0m   js[name] \u001b[38;5;241m=\u001b[39m js_map\n\u001b[0;32m--> 245\u001b[0m \u001b[38;5;28;01melif\u001b[39;00m field\u001b[38;5;241m.\u001b[39mis_repeated:\n\u001b[1;32m    246\u001b[0m   \u001b[38;5;66;03m# Convert a repeated field.\u001b[39;00m\n\u001b[1;32m    247\u001b[0m   js[name] \u001b[38;5;241m=\u001b[39m [\u001b[38;5;28mself\u001b[39m\u001b[38;5;241m.\u001b[39m_FieldToJsonObject(field, k) \u001b[38;5;28;01mfor\u001b[39;00m k \u001b[38;5;129;01min\u001b[39;00m value]\n\u001b[1;32m    248\u001b[0m \u001b[38;5;28;01melif\u001b[39;00m field\u001b[38;5;241m.\u001b[39mis_extension:\n",
      "\u001b[0;31mAttributeError\u001b[0m: 'google.protobuf.pyext._message.FieldDescriptor' object has no attribute 'is_repeated'"
     ]
    }
   ],
   "source": [
    "with mlflow.start_run(run_name=\"model_1\"):\n",
    "    X = reg2[['x1']]\n",
    "    y = reg2['y']\n",
    "    X_train, X_test, y_train, y_test = train_test_split(X, y, test_size=0.2)\n",
    "\n",
    "    model = LinearRegression()\n",
    "    model.fit(X_train, y_train)\n",
    "    y_pred = model.predict(X_test)\n",
    "\n",
    "    mlflow.log_metric(\"mse\", mean_squared_error(y_test, y_pred))\n",
    "    mlflow.log_metric(\"r2\", r2_score(y_test, y_pred))\n",
    "\n",
    "    mlflow.sklearn.log_model(\n",
    "        sk_model=model,\n",
    "        artifact_path=\"model_1\",\n",
    "        registered_model_name=\"model_1\"\n",
    "    )\n"
   ]
  },
  {
   "cell_type": "code",
   "execution_count": 39,
   "id": "b155099d-9dba-415e-9f76-533caa84824c",
   "metadata": {},
   "outputs": [
    {
     "name": "stdout",
     "output_type": "stream",
     "text": [
      "Retrieving notices: ...working... done\n",
      "Channels:\n",
      " - defaults\n",
      " - pytorch\n",
      "Platform: osx-arm64\n",
      "Collecting package metadata (repodata.json): done\n",
      "Solving environment: failed\n",
      "\n",
      "PackagesNotFoundError: The following packages are not available from current channels:\n",
      "\n",
      "  - protobuf=4.21.12*\n",
      "\n",
      "Current channels:\n",
      "\n",
      "  - defaults\n",
      "  - https://conda.anaconda.org/pytorch/osx-arm64\n",
      "\n",
      "To search for alternate channels that may provide the conda package you're\n",
      "looking for, navigate to\n",
      "\n",
      "    https://anaconda.org\n",
      "\n",
      "and use the search bar at the top of the page.\n",
      "\n",
      "\n",
      "\n",
      "Note: you may need to restart the kernel to use updated packages.\n"
     ]
    }
   ],
   "source": [
    "conda install protobuf=4.21.12"
   ]
  },
  {
   "cell_type": "code",
   "execution_count": null,
   "id": "8e52c08a-a6cf-4f25-b6ce-be5a6c2bf7e4",
   "metadata": {},
   "outputs": [],
   "source": []
  }
 ],
 "metadata": {
  "kernelspec": {
   "display_name": "Python 3 (ipykernel)",
   "language": "python",
   "name": "python3"
  },
  "language_info": {
   "codemirror_mode": {
    "name": "ipython",
    "version": 3
   },
   "file_extension": ".py",
   "mimetype": "text/x-python",
   "name": "python",
   "nbconvert_exporter": "python",
   "pygments_lexer": "ipython3",
   "version": "3.12.4"
  }
 },
 "nbformat": 4,
 "nbformat_minor": 5
}
